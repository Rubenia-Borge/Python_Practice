{
 "cells": [
  {
   "cell_type": "code",
   "execution_count": null,
   "metadata": {},
   "outputs": [],
   "source": [
    "# Python Practice"
   ]
  },
  {
   "cell_type": "code",
   "execution_count": 14,
   "metadata": {},
   "outputs": [
    {
     "name": "stdout",
     "output_type": "stream",
     "text": [
      "Enter maximum threshold: 120\n",
      "Results List is:  [100, 102, 104, 106, 108, 110, 112, 114, 116, 118] \n",
      "Additional Numbers List is:  [101, 103, 105, 107, 109, 111, 113, 115, 117, 119]\n"
     ]
    }
   ],
   "source": [
    "maximum = int(input(\"Enter maximum threshold: \"))\n",
    "\n",
    "generated_list = list(range(100,maximum))\n",
    "\n",
    "#print(generated_list)\n",
    "\n",
    "results_list = []\n",
    "additional_numbers = []\n",
    "\n",
    "for i in generated_list:\n",
    "    if i % 2 == 0:\n",
    "        results_list.append(i)    \n",
    "    else:\n",
    "        additional_numbers.append(i)\n",
    "    \n",
    "        \n",
    "print(\"Results List is: \",results_list, \"\\nAdditional Numbers List is: \", additional_numbers)\n",
    "        "
   ]
  },
  {
   "cell_type": "code",
   "execution_count": null,
   "metadata": {},
   "outputs": [],
   "source": []
  }
 ],
 "metadata": {
  "kernelspec": {
   "display_name": "Python 3",
   "language": "python",
   "name": "python3"
  },
  "language_info": {
   "codemirror_mode": {
    "name": "ipython",
    "version": 3
   },
   "file_extension": ".py",
   "mimetype": "text/x-python",
   "name": "python",
   "nbconvert_exporter": "python",
   "pygments_lexer": "ipython3",
   "version": "3.8.5"
  }
 },
 "nbformat": 4,
 "nbformat_minor": 4
}
