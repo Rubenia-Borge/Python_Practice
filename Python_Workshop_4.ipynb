{
 "cells": [
  {
   "cell_type": "code",
   "execution_count": null,
   "metadata": {},
   "outputs": [],
   "source": [
    "# Python Workshop 4"
   ]
  },
  {
   "cell_type": "code",
   "execution_count": null,
   "metadata": {},
   "outputs": [],
   "source": [
    "# Accessing Dictionaries"
   ]
  },
  {
   "cell_type": "code",
   "execution_count": 45,
   "metadata": {},
   "outputs": [
    {
     "name": "stdout",
     "output_type": "stream",
     "text": [
      "Original Payroll:  {'id1': {'name': 'Ana', 'lastname': 'Rodriguez', 'jobtitle': 'software developer', 'salary': 7500}, 'id2': {'name': 'Laura', 'lastname': 'Perez', 'jobtitle': 'sales manager', 'salary': 10000}, 'id3': {'name': 'Carlos', 'lastname': 'Alvarado', 'jobtitle': 'secretary', 'salary': 4500}, 'id4': {'name': 'Lorenzo', 'lastname': 'Guido', 'jobtitle': 'warehouse manager', 'salary': 5000}, 'id5': {'name': 'Carla', 'lastname': 'Arana', 'jobtitle': 'assistant', 'salary': 4500}}\n",
      "\n",
      "After updating salary of id3:  {'id1': {'name': 'Ana', 'lastname': 'Rodriguez', 'jobtitle': 'software developer', 'salary': 7500}, 'id2': {'name': 'Laura', 'lastname': 'Perez', 'jobtitle': 'sales manager', 'salary': 10000}, 'id3': {'name': 'Carlos', 'lastname': 'Alvarado', 'jobtitle': 'secretary', 'salary': 4000}, 'id4': {'name': 'Lorenzo', 'lastname': 'Guido', 'jobtitle': 'warehouse manager', 'salary': 5000}, 'id5': {'name': 'Carla', 'lastname': 'Arana', 'jobtitle': 'assistant', 'salary': 4500}}\n",
      "\n",
      "After updating name of id5:  {'id1': {'name': 'Ana', 'lastname': 'Rodriguez', 'jobtitle': 'software developer', 'salary': 7500}, 'id2': {'name': 'Laura', 'lastname': 'Perez', 'jobtitle': 'sales manager', 'salary': 10000}, 'id3': {'name': 'Carlos', 'lastname': 'Alvarado', 'jobtitle': 'secretary', 'salary': 4000}, 'id4': {'name': 'Lorenzo', 'lastname': 'Guido', 'jobtitle': 'warehouse manager', 'salary': 5000}, 'id5': {'name': 'Alejandra', 'lastname': 'Arana', 'jobtitle': 'assistant', 'salary': 4500}}\n"
     ]
    }
   ],
   "source": [
    "payroll = {\n",
    "     'id1': {'name': 'Ana', 'lastname':'Rodriguez','jobtitle': 'software developer', 'salary': 7500},\n",
    "     'id2': {'name': 'Laura', 'lastname':'Perez','jobtitle': 'sales manager', 'salary': 10000},\n",
    "     'id3': {'name': 'Carlos', 'lastname':'Alvarado','jobtitle': 'secretary', 'salary':4500},\n",
    "     'id4': {'name': 'Lorenzo', 'lastname':'Guido','jobtitle': 'warehouse manager', 'salary': 5000},\n",
    "     'id5': {'name': 'Carla', 'lastname':'Arana','jobtitle': 'assistant', 'salary': 4500}\n",
    "     \n",
    "}\n",
    "\n",
    "print(\"Original Payroll: \",payroll)\n",
    "\n",
    "payroll['id3']['salary'] = 4000\n",
    "print(\"\\nAfter updating salary of id3: \", payroll)\n",
    "\n",
    "payroll['id5']['name'] = 'Alejandra'\n",
    "print(\"\\nAfter updating name of id5: \", payroll)\n"
   ]
  },
  {
   "cell_type": "code",
   "execution_count": null,
   "metadata": {},
   "outputs": [],
   "source": [
    "# Updating keys in dictionaries"
   ]
  },
  {
   "cell_type": "code",
   "execution_count": 14,
   "metadata": {},
   "outputs": [
    {
     "name": "stdout",
     "output_type": "stream",
     "text": [
      "machine_learning\n",
      "deep_learnig\n"
     ]
    }
   ],
   "source": [
    "grades = {\n",
    "  'artificial_intelligence': 72,\n",
    "  'machine_learning': 69,\n",
    "  'deep_learnig': 82\n",
    "}\n",
    "\n",
    "print(min(grades, key=grades.get))\n",
    "print(max(grades, key=grades.get))"
   ]
  },
  {
   "cell_type": "code",
   "execution_count": null,
   "metadata": {},
   "outputs": [],
   "source": [
    "# Updating keys in dictionaries"
   ]
  },
  {
   "cell_type": "code",
   "execution_count": 27,
   "metadata": {},
   "outputs": [
    {
     "name": "stdout",
     "output_type": "stream",
     "text": [
      "Before the update:  {'name': 'Alondra', 'lastname': 'Carcamo', 'age': 31, 'ocupation': 'engineer', 'income': 150000, 'city': 'Toronto', 'country': 'Canada'} \n",
      "\n",
      "After the update:  {'name': 'Alondra', 'lastname': 'Carcamo', 'age': 31, 'income': 150000, 'city': 'Toronto', 'country': 'Canada', 'job': 'engineer'}\n"
     ]
    }
   ],
   "source": [
    "record = {\n",
    "  \"name\": 'Alondra',\n",
    "  \"lastname\": 'Carcamo',\n",
    "  \"age\": 31,\n",
    "  \"ocupation\": 'engineer',\n",
    "  \"income\": 150000,\n",
    "  \"city\": 'Toronto',\n",
    "  \"country\": 'Canada'\n",
    "}\n",
    "\n",
    "print(\"Before the update occupation-job: \", record, \"\\n\")\n",
    "\n",
    "record['job'] = record.pop('ocupation')\n",
    "\n",
    "print(\"After the update occupation-job: \", record)"
   ]
  },
  {
   "cell_type": "code",
   "execution_count": null,
   "metadata": {},
   "outputs": [],
   "source": [
    "# Finding values in dictionaries"
   ]
  },
  {
   "cell_type": "code",
   "execution_count": 34,
   "metadata": {},
   "outputs": [
    {
     "name": "stdout",
     "output_type": "stream",
     "text": [
      "1000 in my dictionary values?  False\n",
      "100 in my dictionary values?  True\n",
      "10 in my dictionary values?  False\n",
      "30 in my dictionary values?  True\n"
     ]
    }
   ],
   "source": [
    "created_dict = {'Scarves': 50, 'T-Shirts': 200, 'Blouses': 100, 'Pants': 100, 'Dresses': 50, 'Skirts': 30}\n",
    "\n",
    "print(\"100 in my dictionary values? \",100 in created_dict.values())\n",
    "print(\"10 in my dictionary values? \",10 in created_dict.values())\n",
    "print(\"30 in my dictionary values? \",30 in created_dict.values())"
   ]
  },
  {
   "cell_type": "code",
   "execution_count": null,
   "metadata": {},
   "outputs": [],
   "source": [
    "# Finding keys in dictionaries"
   ]
  },
  {
   "cell_type": "code",
   "execution_count": 37,
   "metadata": {},
   "outputs": [
    {
     "name": "stdout",
     "output_type": "stream",
     "text": [
      "Sweaters in my dictionary keys?  False\n",
      "Shorts in my dictionary keys?  False\n",
      "Skirts in my dictionary keys?  True\n",
      "T-Shirts in my dictionary keys?  True\n"
     ]
    }
   ],
   "source": [
    "created_dict = {'Scarves': 50, 'T-Shirts': 200, 'Blouses': 100, 'Pants': 100, 'Dresses': 50, 'Skirts': 30}\n",
    "\n",
    "print(\"Sweaters in my dictionary keys? \",'Sweaters' in created_dict.keys())\n",
    "print(\"Shorts in my dictionary keys? \",'Shorts' in created_dict.keys())\n",
    "print(\"Skirts in my dictionary keys? \",'Skirts' in created_dict.keys())\n",
    "print(\"T-Shirts in my dictionary keys? \",'T-Shirts' in created_dict.keys())\n"
   ]
  },
  {
   "cell_type": "code",
   "execution_count": null,
   "metadata": {},
   "outputs": [],
   "source": [
    "# Create a dictionary from two lists using the zip function"
   ]
  },
  {
   "cell_type": "code",
   "execution_count": 38,
   "metadata": {},
   "outputs": [
    {
     "name": "stdout",
     "output_type": "stream",
     "text": [
      "{'Scarves': 50, 'T-Shirts': 200, 'Blouses': 100, 'Pants': 100, 'Dresses': 50, 'Skirts': 30}\n"
     ]
    }
   ],
   "source": [
    "keys = ['Scarves', 'T-Shirts', 'Blouses', 'Pants', 'Dresses', 'Skirts']\n",
    "values = [50, 200, 100, 100, 50, 30]\n",
    "\n",
    "created_dictionary = dict(zip(keys, values))\n",
    "print(created_dictionary)"
   ]
  },
  {
   "cell_type": "code",
   "execution_count": null,
   "metadata": {},
   "outputs": [],
   "source": [
    "# Merge two different python dictionaries into one third dictionary"
   ]
  },
  {
   "cell_type": "code",
   "execution_count": 41,
   "metadata": {},
   "outputs": [
    {
     "name": "stdout",
     "output_type": "stream",
     "text": [
      "{'Scarves': 50, 'T-Shirts': 200, 'Blouses': 100, 'Pants': 100, 'Dresses': 50, 'Skirts': 30}\n"
     ]
    }
   ],
   "source": [
    "created_dict1 = {'Scarves': 50, 'T-Shirts': 200, 'Blouses': 100, 'Pants': 100, 'Dresses': 50}\n",
    "created_dict2 = {'Scarves': 50, 'T-Shirts': 200, 'Blouses': 100, 'Pants': 100, 'Dresses': 50, 'Skirts': 30}\n",
    "\n",
    "joined_dict = {**created_dict1, **created_dict2}\n",
    "\n",
    "print(joined_dict)"
   ]
  },
  {
   "cell_type": "code",
   "execution_count": null,
   "metadata": {},
   "outputs": [],
   "source": [
    "# Accessing values from dictionaries"
   ]
  },
  {
   "cell_type": "code",
   "execution_count": 44,
   "metadata": {},
   "outputs": [
    {
     "name": "stdout",
     "output_type": "stream",
     "text": [
      "{'class': {'student': {'name': 'Mike', 'marks': {'physics': 70, 'history': 80}}}}\n",
      "80\n"
     ]
    }
   ],
   "source": [
    "sampleDict = { \n",
    "   \"class\":{ \n",
    "      \"student\":{ \n",
    "         \"name\":\"Mike\",\n",
    "         \"marks\":{ \n",
    "            \"physics\":70,\n",
    "            \"history\":80\n",
    "         }\n",
    "      }\n",
    "   }\n",
    "}\n",
    "\n",
    "print(sampleDict)\n",
    "\n",
    "print(sampleDict['class']['student']['marks']['history'])"
   ]
  },
  {
   "cell_type": "code",
   "execution_count": null,
   "metadata": {},
   "outputs": [],
   "source": []
  }
 ],
 "metadata": {
  "kernelspec": {
   "display_name": "Python 3",
   "language": "python",
   "name": "python3"
  },
  "language_info": {
   "codemirror_mode": {
    "name": "ipython",
    "version": 3
   },
   "file_extension": ".py",
   "mimetype": "text/x-python",
   "name": "python",
   "nbconvert_exporter": "python",
   "pygments_lexer": "ipython3",
   "version": "3.8.5"
  }
 },
 "nbformat": 4,
 "nbformat_minor": 4
}
