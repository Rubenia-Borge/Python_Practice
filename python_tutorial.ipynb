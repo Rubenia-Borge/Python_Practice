{
 "cells": [
  {
   "cell_type": "code",
   "execution_count": null,
   "metadata": {},
   "outputs": [],
   "source": [
    "# Array Exercises with Python"
   ]
  },
  {
   "cell_type": "code",
   "execution_count": null,
   "metadata": {},
   "outputs": [],
   "source": [
    "mylist = [1,2,3,4,5,6,7,8,9,10,11,12,13,14,15,16,17,18,19,20,21,22,23,24,25,26,27,28,29,30]\n",
    "\n",
    "# print number if this number is even\n",
    "for i in range(len(mylist)):\n",
    "    if mylist[i] % 2 == 0:\n",
    "        print(mylist[i])\n",
    "\n"
   ]
  },
  {
   "cell_type": "code",
   "execution_count": null,
   "metadata": {},
   "outputs": [],
   "source": [
    "mylist = [1,2,3,4,5,6,7,8,9,10,11,12,13,14,15,16,17,18,19,20,21,22,23,24,25,26,27,28,29,30]\n",
    "\n",
    "# print if number is odd       \n",
    "for i in range(len(mylist)):\n",
    "    if mylist[i] % 2 != 0:\n",
    "        print(mylist[i])"
   ]
  },
  {
   "cell_type": "code",
   "execution_count": null,
   "metadata": {},
   "outputs": [],
   "source": [
    "mylist = [1,2,3,4,5,6,7,8,9,10,11,12,13,14,15,16,17,18,19,20,21,22,23,24,25,26,27,28,29,30]\n",
    "\n",
    "# print if number is divisible by 5\n",
    "for i in range(len(mylist)):\n",
    "    if mylist[i] % 5 == 0:\n",
    "        print(mylist[i])\n"
   ]
  },
  {
   "cell_type": "code",
   "execution_count": null,
   "metadata": {},
   "outputs": [],
   "source": [
    "mylist = [1,2,3,4,5,6,7,8,9,10,11,12,13,14,15,16,17,18,19,20,21,22,23,24,25,26,27,28,29,30]\n",
    "\n",
    "# print if number is divisible by 10\n",
    "for i in range(len(mylist)):\n",
    "    if mylist[i] % 10 == 0:\n",
    "        print(mylist[i])\n"
   ]
  },
  {
   "cell_type": "code",
   "execution_count": null,
   "metadata": {},
   "outputs": [],
   "source": [
    "mylist = [1,2,3,4,5,6,7,8,9,10,11,12,13,14,15,16,17,18,19,20,21,22,23,24,25,26,27,28,29,30]\n",
    "\n",
    "# If number is divisible by 10 keep decreasing until zero\n",
    "for i in range(len(mylist)):\n",
    "    if mylist[i] % 10 == 0:\n",
    "        print(\"This is: \", mylist[i])\n",
    "        mynumber = mylist[i]\n",
    "        while True:\n",
    "            mynumber -= 2\n",
    "            print(mynumber)\n",
    "            if mynumber <= 0:\n",
    "                break\n",
    "\n",
    "\n"
   ]
  },
  {
   "cell_type": "code",
   "execution_count": null,
   "metadata": {},
   "outputs": [],
   "source": [
    "mylist = [1,2,3,4,5,6,7,8,9,10,11,12,13,14,15,16,17,18,19,20,21,22,23,24,25,26,27,28,29,30]\n",
    "\n",
    "# If number is divisible by 10 keep increase until number\n",
    "for i in range(len(mylist)):\n",
    "    if mylist[i] % 10 == 0:\n",
    "        print(\"This is: \", mylist[i])\n",
    "        mynumber = 0\n",
    "        while True:\n",
    "            mynumber += 2\n",
    "            print(mynumber)\n",
    "            if mynumber == mylist[i]:\n",
    "                break"
   ]
  },
  {
   "cell_type": "code",
   "execution_count": null,
   "metadata": {},
   "outputs": [],
   "source": [
    "mylist = [1,2,3,4,5,6,7,8,9,10,11,12,13,14,15,16,17,18,19,20,21,22,23,24,25,26,27,28,29,30]\n",
    "\n",
    "# If number is divisible by 10 keep increase until number and keep the sum\n",
    "for i in range(len(mylist)):\n",
    "    if mylist[i] % 10 == 0:\n",
    "        print(\"This is: \", mylist[i])\n",
    "        mynumber = 0\n",
    "        mysum = 0\n",
    "        while True:\n",
    "            mynumber += 2\n",
    "            mysum += mynumber\n",
    "            print(mynumber)            \n",
    "            if mynumber == mylist[i]:\n",
    "                print(\"Sum is: \",mysum)\n",
    "                break"
   ]
  },
  {
   "cell_type": "code",
   "execution_count": 59,
   "metadata": {},
   "outputs": [
    {
     "name": "stdout",
     "output_type": "stream",
     "text": [
      "0 0 45\n",
      "0 29 0\n",
      "29 0 0\n"
     ]
    }
   ],
   "source": [
    "alist = [1,2,3,4,5,6,7,8,9,10,11,12,13,14,15,16,17,18,19,20,21,22,23,24,25,26,27,28,29,30]\n",
    "mylist1 = [30,29,28,27,26,25,24,23,22,21,20,19,18,17,16,15,14,13,12,11,10,9,8,7,6,5,4,3,2,1]\n",
    "mylist2 = [1,1,1,1,1,1,1,1,1,1,1,1,1,1,1,1,1,1,1,1,1,1,1,1,1,1,1,1,1,1,1,1,1,1,1,1,1,1,1,1,1,1,1,1,1,1]\n",
    "\n",
    "# What is the difference between the current and the next values?\n",
    "class Solution(object):\n",
    "    \n",
    "    def difference (self,alist):\n",
    "        mytotalright = 0\n",
    "        mytotalleft = 0\n",
    "        myequals = 0\n",
    "        for i in range(len(alist)- 1):\n",
    "            if alist[i] < alist[i + 1]:\n",
    "                #print(mylist[i], mylist[i + 1], mylist[i + 1] - mylist[i])\n",
    "                mytotalright += alist[i + 1] - alist[i]\n",
    "        #print (mytotalright)\n",
    "            elif alist[i] == alist[i + 1]:\n",
    "                myequals += 1\n",
    "            elif alist[i] > alist[i + 1]:\n",
    "                mytotalleft += alist[i] - alist[i + 1]\n",
    "    \n",
    "        print(mytotalright,mytotalleft,myequals)\n",
    "        \n",
    "        \n",
    "object_test = Solution()\n",
    "object_test.difference(mylist2)\n",
    "object_test.difference(mylist1)\n",
    "object_test.difference(mylist)\n"
   ]
  },
  {
   "cell_type": "code",
   "execution_count": null,
   "metadata": {},
   "outputs": [],
   "source": [
    "mylist = [1,2,3,4,5,6,7,8,9,10,11,12,13,14,15,16,17,18,19,20,21,22,23,24,25,26,27,28,29,30]"
   ]
  },
  {
   "cell_type": "code",
   "execution_count": null,
   "metadata": {},
   "outputs": [],
   "source": [
    "mylist = [1,2,3,4,5,6,7,8,9,10,11,12,13,14,15,16,17,18,19,20,21,22,23,24,25,26,27,28,29,30]"
   ]
  },
  {
   "cell_type": "code",
   "execution_count": null,
   "metadata": {},
   "outputs": [],
   "source": [
    "mylist = [1,2,3,4,5,6,7,8,9,10,11,12,13,14,15,16,17,18,19,20,21,22,23,24,25,26,27,28,29,30]\n",
    "\n",
    "\"\"\"\n",
    "# print number if this number is even\n",
    "for i in range(len(mylist)):\n",
    "    if mylist[i] % 2 == 0:\n",
    "        #print(mylist[i])\n",
    "\n",
    "\"\"\"\n",
    "\n",
    "\"\"\"\n",
    "# print if number is odd       \n",
    "for i in range(len(mylist)):\n",
    "    if mylist[i] % 2 != 0:\n",
    "        print(mylist[i])\n",
    "\n",
    "\"\"\"\n",
    "\n",
    "\"\"\"\n",
    "# print if number is divisible by 5\n",
    "for i in range(len(mylist)):\n",
    "    if mylist[i] % 5 == 0:\n",
    "        print(mylist[i])\n",
    "\n",
    "\"\"\"\n",
    "      \n",
    "\"\"\"\n",
    "# print if number is divisible by 10\n",
    "for i in range(len(mylist)):\n",
    "    if mylist[i] % 10 == 0:\n",
    "        print(mylist[i])\n",
    "\n",
    "\"\"\"\n",
    "\n",
    "\"\"\"\n",
    "# If number is divisible by 10 keep decreasing until zero\n",
    "for i in range(len(mylist)):\n",
    "    if mylist[i] % 10 == 0:\n",
    "        print(\"This is: \", mylist[i])\n",
    "        mynumber = mylist[i]\n",
    "        while True:\n",
    "            mynumber -= 2\n",
    "            print(mynumber)\n",
    "            if mynumber <= 0:\n",
    "                break\n",
    "\n",
    "\"\"\"\n",
    "\n",
    "\"\"\"\n",
    "# If number is divisible by 10 keep increase until number\n",
    "for i in range(len(mylist)):\n",
    "    if mylist[i] % 10 == 0:\n",
    "        print(\"This is: \", mylist[i])\n",
    "        mynumber = 0\n",
    "        while True:\n",
    "            mynumber += 2\n",
    "            print(mynumber)\n",
    "            if mynumber == mylist[i]:\n",
    "                break\n",
    "\n",
    "\"\"\" \n",
    "\n",
    "\"\"\"\n",
    "\n",
    "# If number is divisible by 10 keep increase until number and keep the sum\n",
    "for i in range(len(mylist)):\n",
    "    if mylist[i] % 10 == 0:\n",
    "        print(\"This is: \", mylist[i])\n",
    "        mynumber = 0\n",
    "        mysum = 0\n",
    "        while True:\n",
    "            mynumber += 2\n",
    "            mysum += mynumber\n",
    "            print(mynumber)            \n",
    "            if mynumber == mylist[i]:\n",
    "                print(\"Sum is: \",mysum)\n",
    "                break\n",
    "\"\"\"\n",
    "\n"
   ]
  },
  {
   "cell_type": "code",
   "execution_count": null,
   "metadata": {},
   "outputs": [],
   "source": []
  }
 ],
 "metadata": {
  "kernelspec": {
   "display_name": "Python 3",
   "language": "python",
   "name": "python3"
  },
  "language_info": {
   "codemirror_mode": {
    "name": "ipython",
    "version": 3
   },
   "file_extension": ".py",
   "mimetype": "text/x-python",
   "name": "python",
   "nbconvert_exporter": "python",
   "pygments_lexer": "ipython3",
   "version": "3.8.5"
  }
 },
 "nbformat": 4,
 "nbformat_minor": 4
}
