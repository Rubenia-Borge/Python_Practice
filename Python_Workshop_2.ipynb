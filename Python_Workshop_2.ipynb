{
 "cells": [
  {
   "cell_type": "code",
   "execution_count": null,
   "metadata": {},
   "outputs": [],
   "source": [
    "# Practice Python"
   ]
  },
  {
   "cell_type": "code",
   "execution_count": 2,
   "metadata": {},
   "outputs": [
    {
     "name": "stdout",
     "output_type": "stream",
     "text": [
      "What's your favorite food? Pizza\n",
      "Oh! I like Pizza too!\n"
     ]
    }
   ],
   "source": [
    "food = input(\"What's your favorite food? \")\n",
    "print(\"Oh! I like\" + \" \" + food + \" \" + \"too!\")"
   ]
  },
  {
   "cell_type": "code",
   "execution_count": 4,
   "metadata": {},
   "outputs": [
    {
     "name": "stdout",
     "output_type": "stream",
     "text": [
      "What's your favorite artist? Madonna\n",
      "I love Madonna's music, too!\n"
     ]
    }
   ],
   "source": [
    "artist = input(\"What's your favorite artist? \")\n",
    "print(\"I love\" + \" \" + artist + \"'s\" + \" \" + \"music, too!\")"
   ]
  },
  {
   "cell_type": "code",
   "execution_count": 5,
   "metadata": {},
   "outputs": [
    {
     "name": "stdout",
     "output_type": "stream",
     "text": [
      "What's your favorite song? Cumbia\n",
      "Cumbia is my favorite song, too!\n"
     ]
    }
   ],
   "source": [
    "song = input(\"What's your favorite song? \")\n",
    "print(song + \" \" + \"is my favorite song, too!\")"
   ]
  },
  {
   "cell_type": "code",
   "execution_count": 1,
   "metadata": {},
   "outputs": [
    {
     "name": "stdout",
     "output_type": "stream",
     "text": [
      "Enter number 1: 10\n",
      "Enter number 2: 100\n",
      "Sum is  110\n"
     ]
    }
   ],
   "source": [
    "# Sum\n",
    "num1 = int(input(\"Enter number 1: \"))\n",
    "num2 = int(input(\"Enter number 2: \"))\n",
    "print(\"Sum is \", num1 + num2)"
   ]
  },
  {
   "cell_type": "code",
   "execution_count": 2,
   "metadata": {},
   "outputs": [
    {
     "name": "stdout",
     "output_type": "stream",
     "text": [
      "Enter number 1: 100\n",
      "Enter number 2: 10\n",
      "Concatenation is  10010\n"
     ]
    }
   ],
   "source": [
    "# strings\n",
    "\n",
    "str1 = str(input(\"Enter number 1: \"))\n",
    "str2 = str(input(\"Enter number 2: \"))\n",
    "\n",
    "print(\"Concatenation is \", str1 + str2)"
   ]
  },
  {
   "cell_type": "code",
   "execution_count": 8,
   "metadata": {},
   "outputs": [
    {
     "name": "stdout",
     "output_type": "stream",
     "text": [
      "Alrighty. Tell me your name: Rubi\n",
      "And now tell me what year you were born: 1983\n",
      "38\n",
      "And in 50 years you will be:  88\n"
     ]
    }
   ],
   "source": [
    "name = input(\"Alrighty. Tell me your name: \")\n",
    "year = int(input(\"And now tell me what year you were born: \"))\n",
    "age = str((2021 - year))\n",
    "print(age)\n",
    "print(\"And in 50 years you will be: \", ((2021-year) + 50)) \n"
   ]
  },
  {
   "cell_type": "code",
   "execution_count": null,
   "metadata": {},
   "outputs": [],
   "source": []
  }
 ],
 "metadata": {
  "kernelspec": {
   "display_name": "Python 3",
   "language": "python",
   "name": "python3"
  },
  "language_info": {
   "codemirror_mode": {
    "name": "ipython",
    "version": 3
   },
   "file_extension": ".py",
   "mimetype": "text/x-python",
   "name": "python",
   "nbconvert_exporter": "python",
   "pygments_lexer": "ipython3",
   "version": "3.8.5"
  }
 },
 "nbformat": 4,
 "nbformat_minor": 4
}
