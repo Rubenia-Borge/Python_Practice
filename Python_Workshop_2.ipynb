{
 "cells": [
  {
   "cell_type": "code",
   "execution_count": null,
   "metadata": {},
   "outputs": [],
   "source": [
    "# Practice Python"
   ]
  },
  {
   "cell_type": "code",
   "execution_count": 2,
   "metadata": {},
   "outputs": [
    {
     "name": "stdout",
     "output_type": "stream",
     "text": [
      "What's your favorite food? Pizza\n",
      "Oh! I like Pizza too!\n"
     ]
    }
   ],
   "source": [
    "food = input(\"What's your favorite food? \")\n",
    "print(\"Oh! I like\" + \" \" + food + \" \" + \"too!\")"
   ]
  },
  {
   "cell_type": "code",
   "execution_count": 4,
   "metadata": {},
   "outputs": [
    {
     "name": "stdout",
     "output_type": "stream",
     "text": [
      "What's your favorite artist? Madonna\n",
      "I love Madonna's music, too!\n"
     ]
    }
   ],
   "source": [
    "artist = input(\"What's your favorite artist? \")\n",
    "print(\"I love\" + \" \" + artist + \"'s\" + \" \" + \"music, too!\")"
   ]
  },
  {
   "cell_type": "code",
   "execution_count": 5,
   "metadata": {},
   "outputs": [
    {
     "name": "stdout",
     "output_type": "stream",
     "text": [
      "What's your favorite song? Cumbia\n",
      "Cumbia is my favorite song, too!\n"
     ]
    }
   ],
   "source": [
    "song = input(\"What's your favorite song? \")\n",
    "print(song + \" \" + \"is my favorite song, too!\")"
   ]
  },
  {
   "cell_type": "code",
   "execution_count": 1,
   "metadata": {},
   "outputs": [
    {
     "name": "stdout",
     "output_type": "stream",
     "text": [
      "Enter number 1: 10\n",
      "Enter number 2: 100\n",
      "Sum is  110\n"
     ]
    }
   ],
   "source": [
    "# Sum\n",
    "num1 = int(input(\"Enter number 1: \"))\n",
    "num2 = int(input(\"Enter number 2: \"))\n",
    "print(\"Sum is \", num1 + num2)"
   ]
  },
  {
   "cell_type": "code",
   "execution_count": 2,
   "metadata": {},
   "outputs": [
    {
     "name": "stdout",
     "output_type": "stream",
     "text": [
      "Enter number 1: 100\n",
      "Enter number 2: 10\n",
      "Concatenation is  10010\n"
     ]
    }
   ],
   "source": [
    "# strings\n",
    "\n",
    "str1 = str(input(\"Enter number 1: \"))\n",
    "str2 = str(input(\"Enter number 2: \"))\n",
    "\n",
    "print(\"Concatenation is \", str1 + str2)"
   ]
  },
  {
   "cell_type": "code",
   "execution_count": 25,
   "metadata": {},
   "outputs": [
    {
     "name": "stdout",
     "output_type": "stream",
     "text": [
      "Alrighty. Tell me your name: Ana\n",
      "And now tell me what year you were born: 2000\n",
      "Okay Ana your age is: 21\n",
      "And in 50 years you will be:  71\n"
     ]
    }
   ],
   "source": [
    "name = input(\"Alrighty. Tell me your name: \")\n",
    "year = int(input(\"And now tell me what year you were born: \"))\n",
    "age = str((2021 - year))\n",
    "print(\"Okay\" + \" \" + name + \" \" + \"your age is: \" + age)\n",
    "print(\"And in 50 years you will be: \", ((2021-year) + 50)) \n"
   ]
  },
  {
   "cell_type": "code",
   "execution_count": null,
   "metadata": {},
   "outputs": [],
   "source": [
    "#####################################################\n",
    "#####################################################"
   ]
  },
  {
   "cell_type": "code",
   "execution_count": 13,
   "metadata": {},
   "outputs": [
    {
     "name": "stdout",
     "output_type": "stream",
     "text": [
      "Enter your final score: 100\n",
      "You got an A\n"
     ]
    }
   ],
   "source": [
    "score = int(input(\"Enter your final score: \"))\n",
    "\n",
    "if score >= 0 and score <= 59:\n",
    "    print(\"You got an F\")\n",
    "elif score >= 60 and score <= 69:\n",
    "    print(\"You got a D\")\n",
    "elif score >= 70 and score <= 79:\n",
    "    print(\"You got a C\")\n",
    "elif score >= 80 and score <= 89:\n",
    "    print(\"You got a B\")\n",
    "else:\n",
    "    print(\"You got an A\")\n",
    "    \n",
    "    "
   ]
  },
  {
   "cell_type": "code",
   "execution_count": null,
   "metadata": {},
   "outputs": [],
   "source": [
    "# More conditionals"
   ]
  },
  {
   "cell_type": "code",
   "execution_count": 23,
   "metadata": {},
   "outputs": [
    {
     "name": "stdout",
     "output_type": "stream",
     "text": [
      "Enter your final score: 93\n",
      "You got an A-\n"
     ]
    }
   ],
   "source": [
    "score = int(input(\"Enter your final score: \"))\n",
    "\n",
    "if score >= 0 and score <= 59:\n",
    "    if score < 55:\n",
    "        print(\"You got an F-\")\n",
    "    elif score == 55:\n",
    "        print(\"You got an F\")\n",
    "    else:\n",
    "        print(\"You got an F+\")   \n",
    "elif score >= 60 and score <= 69:\n",
    "    if score < 65:\n",
    "        print(\"You got an D-\")\n",
    "    elif score == 65:\n",
    "        print(\"You got an D\")\n",
    "    else:\n",
    "        print(\"You got an D+\")    \n",
    "elif score >= 70 and score <= 79:\n",
    "    if score < 75:\n",
    "        print(\"You got an C-\")\n",
    "    elif score == 75:\n",
    "        print(\"You got an C\")\n",
    "    else:\n",
    "        print(\"You got an C+\")\n",
    "elif score >= 80 and score <= 89:\n",
    "    if score < 85:\n",
    "        print(\"You got an B-\")\n",
    "    elif score == 85:\n",
    "        print(\"You got an B\")\n",
    "    else:\n",
    "        print(\"You got an B+\")\n",
    "else:\n",
    "    if score < 95:\n",
    "        print(\"You got an A-\")\n",
    "    elif score == 95:\n",
    "        print(\"You got an A\")\n",
    "    else:\n",
    "        print(\"You got an A+\")"
   ]
  },
  {
   "cell_type": "code",
   "execution_count": null,
   "metadata": {},
   "outputs": [],
   "source": []
  }
 ],
 "metadata": {
  "kernelspec": {
   "display_name": "Python 3",
   "language": "python",
   "name": "python3"
  },
  "language_info": {
   "codemirror_mode": {
    "name": "ipython",
    "version": 3
   },
   "file_extension": ".py",
   "mimetype": "text/x-python",
   "name": "python",
   "nbconvert_exporter": "python",
   "pygments_lexer": "ipython3",
   "version": "3.8.5"
  }
 },
 "nbformat": 4,
 "nbformat_minor": 4
}
