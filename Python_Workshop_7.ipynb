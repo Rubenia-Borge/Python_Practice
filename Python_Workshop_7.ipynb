{
 "cells": [
  {
   "cell_type": "code",
   "execution_count": null,
   "metadata": {},
   "outputs": [],
   "source": [
    "# Python Workshop 7"
   ]
  },
  {
   "cell_type": "code",
   "execution_count": null,
   "metadata": {},
   "outputs": [],
   "source": [
    "# Create a class and an object"
   ]
  },
  {
   "cell_type": "code",
   "execution_count": 5,
   "metadata": {},
   "outputs": [
    {
     "name": "stdout",
     "output_type": "stream",
     "text": [
      "\n",
      "Item ID:  1 \n",
      "Purchase Price:  3.5 \n",
      "Item Description tomatoes\n"
     ]
    }
   ],
   "source": [
    "class Item:\n",
    "    def __init__(self, itemid, price, description):\n",
    "        self.itemid = itemid\n",
    "        self.price = price\n",
    "        self.description = description\n",
    "        \n",
    "item_purchased = Item('1', 3.5, 'tomatoes')\n",
    "print(\"\\nItem ID: \",item_purchased.itemid, \"\\nPurchase Price: \", item_purchased.price, \"\\nItem Description\", item_purchased.description)\n",
    "        "
   ]
  },
  {
   "cell_type": "code",
   "execution_count": null,
   "metadata": {},
   "outputs": [],
   "source": [
    "# Class Store\n",
    "# No variables and methods yet"
   ]
  },
  {
   "cell_type": "code",
   "execution_count": null,
   "metadata": {},
   "outputs": [],
   "source": [
    "class Store:\n",
    "    pass"
   ]
  },
  {
   "cell_type": "code",
   "execution_count": null,
   "metadata": {},
   "outputs": [],
   "source": [
    "# Inheritance"
   ]
  },
  {
   "cell_type": "code",
   "execution_count": 29,
   "metadata": {},
   "outputs": [
    {
     "name": "stdout",
     "output_type": "stream",
     "text": [
      "\n",
      "Data for Person class\n",
      "001U\n",
      "American\n",
      "Lola\n",
      "Lopez\n",
      "5.9\n",
      "54\n",
      "\n",
      "Data for Kid class\n",
      "002J\n",
      "Japanese\n",
      "Hito\n",
      "Maru\n",
      "2.4\n",
      "20\n"
     ]
    }
   ],
   "source": [
    "class Person:\n",
    "    def __init__(self,national_id, nationality, name, lastname, height, weight):\n",
    "        self.national_id = national_id\n",
    "        self.nationality = nationality\n",
    "        self.name = name\n",
    "        self.lastname = lastname\n",
    "        self.height = height\n",
    "        self.weight = weight\n",
    "    \n",
    "person_object1 = Person('001U', 'American', 'Lola', 'Lopez', 5.9, 54)\n",
    "\n",
    "print(\"\\nData for Person class\")\n",
    "print(person_object1.national_id)\n",
    "print(person_object1.nationality)\n",
    "print(person_object1.name)\n",
    "print(person_object1.lastname)\n",
    "print(person_object1.height)\n",
    "print(person_object1.weight)\n",
    "\n",
    "class Kid(Person):\n",
    "    pass\n",
    "\n",
    "\n",
    "kid_object1 = Kid('002J', 'Japanese', 'Hito', 'Maru', 2.4, 20)\n",
    "\n",
    "print(\"\\nData for Kid class\")\n",
    "print(kid_object1.national_id)\n",
    "print(kid_object1.nationality)\n",
    "print(kid_object1.name)\n",
    "print(kid_object1.lastname)\n",
    "print(kid_object1.height)\n",
    "print(kid_object1.weight)\n",
    "\n"
   ]
  },
  {
   "cell_type": "code",
   "execution_count": null,
   "metadata": {},
   "outputs": [],
   "source": [
    "# Inheritance"
   ]
  },
  {
   "cell_type": "code",
   "execution_count": 40,
   "metadata": {},
   "outputs": [
    {
     "name": "stdout",
     "output_type": "stream",
     "text": [
      "Item:  Skirt\n",
      "Color:  blue\n",
      "Size:  M\n",
      "Print:  Floral\n",
      "Brand:  Guess\n",
      "The price of Skirt is 100 in US dollars.\n"
     ]
    }
   ],
   "source": [
    "class Clothes:\n",
    "    def __init__(self, description, color, size, printing, brand):\n",
    "        self.description = description\n",
    "        self.color = color\n",
    "        self.size = size\n",
    "        self.printing = printing\n",
    "        self.brand = brand\n",
    "        \n",
    "    def show_price(self, price):\n",
    "        return f\"The price of {self.description} is {price} in US dollars.\"\n",
    "    \n",
    "class Skirt(Clothes):\n",
    "    def show_price(self, price = 100):\n",
    "        return super().show_price(price = 100)\n",
    "    \n",
    "skirt_object = Skirt('Skirt', 'blue', 'M', 'Floral', 'Guess')\n",
    "\n",
    "print(\"Item: \",skirt_object.description)\n",
    "print(\"Color: \",skirt_object.color)\n",
    "print(\"Size: \",skirt_object.size)\n",
    "print(\"Print: \",skirt_object.printing)\n",
    "print(\"Brand: \",skirt_object.brand)\n",
    "print(skirt_object.show_price())\n"
   ]
  },
  {
   "cell_type": "code",
   "execution_count": 42,
   "metadata": {},
   "outputs": [
    {
     "name": "stdout",
     "output_type": "stream",
     "text": [
      "The price of Pants is 150 in US dollars.\n",
      "The item Pants of size 32 and color blue is available currently.\n"
     ]
    }
   ],
   "source": [
    "class Clothes:\n",
    "    def __init__(self, description, color, size, printing, brand):\n",
    "        self.description = description\n",
    "        self.color = color\n",
    "        self.size = size\n",
    "        self.printing = printing\n",
    "        self.brand = brand\n",
    "        \n",
    "    def show_price(self, price):\n",
    "        return f\"The price of {self.description} is {price} in US dollars.\"\n",
    "    \n",
    "    def describe_item(self, status):\n",
    "        return f\"The item {self.description} of size {self.size} and color {self.color} is {status} currently.\"\n",
    "    \n",
    "\n",
    "class Pants(Clothes):\n",
    "    def show_price(self, price = 150):\n",
    "        return super().show_price(price = 150)\n",
    "     \n",
    "    def describe_item(self, status = 'available'):        \n",
    "        return super().describe_item(status = 'available')\n",
    "    \n",
    "pants_object = Pants('Pants', 'blue', '32', 'Jeans', 'Levis')\n",
    "\n",
    "#print(\"Item: \",pants_object.description)\n",
    "#print(\"Color: \",pants_object.color)\n",
    "#print(\"Size: \",pants_object.size)\n",
    "#print(\"Print: \",pants_object.printing)\n",
    "#print(\"Brand: \",pants_object.brand)\n",
    "print(pants_object.show_price())\n",
    "print(pants_object.describe_item())\n"
   ]
  },
  {
   "cell_type": "code",
   "execution_count": 59,
   "metadata": {},
   "outputs": [
    {
     "name": "stdout",
     "output_type": "stream",
     "text": [
      "The item you are interested in is Dress and it makes a great choice for you!\n",
      "We recommend size M for you. The brand is Channel.\n",
      "Since you responded yes, we recommend pink in Stripes!\n"
     ]
    }
   ],
   "source": [
    "class Clothes:\n",
    "    def __init__(self, description, color, size, printing, brand):\n",
    "        self.description = description\n",
    "        self.color = color\n",
    "        self.size = size\n",
    "        self.printing = printing\n",
    "        self.brand = brand\n",
    "        \n",
    "    def show_price(self, price):\n",
    "        return f\"The price of {self.description} is {price} in US dollars.\"\n",
    "    \n",
    "    def describe_item(self, status):\n",
    "        return f\"The item {self.description} of size {self.size} and color {self.color} is {status} currently.\"\n",
    "    \n",
    "    def display_description(self):\n",
    "        return f\"The item you are interested in is {self.description} and it makes a great choice for you!\"\n",
    "    \n",
    "    def display_recommendation(self):\n",
    "        return f\"We recommend size {self.size} for you. The brand is {self.brand}.\"\n",
    "    \n",
    "    def display_recommendation_color(self, interested):\n",
    "        return f\"Since you responded {interested}, we recommend {self.color} in {self.printing}!\"\n",
    "    \n",
    "\n",
    "class Dress(Clothes):\n",
    "    def show_price(self, price = 200):\n",
    "        return super().show_price(price = 200)\n",
    "     \n",
    "    def describe_item(self, status = 'available'):        \n",
    "        return super().describe_item(status = 'available')\n",
    "    \n",
    "    def display_description(self):\n",
    "        return super().display_description()\n",
    "    \n",
    "    def display_recommendation(self):\n",
    "        return super().display_recommendation()\n",
    "    \n",
    "    def display_recommendation_color(self, interested = 'yes'):\n",
    "        return super().display_recommendation_color(interested = 'yes')\n",
    "    \n",
    "    \n",
    "dress_object = Dress('Dress', 'pink', 'M', 'Stripes', 'Channel')\n",
    "\n",
    "\n",
    "#print(dress_object.show_price())\n",
    "#print(dress_object.describe_item())\n",
    "print(dress_object.display_description())\n",
    "print(dress_object.display_recommendation())\n",
    "print(dress_object.display_recommendation_color())"
   ]
  },
  {
   "cell_type": "code",
   "execution_count": null,
   "metadata": {},
   "outputs": [],
   "source": []
  }
 ],
 "metadata": {
  "kernelspec": {
   "display_name": "Python 3",
   "language": "python",
   "name": "python3"
  },
  "language_info": {
   "codemirror_mode": {
    "name": "ipython",
    "version": 3
   },
   "file_extension": ".py",
   "mimetype": "text/x-python",
   "name": "python",
   "nbconvert_exporter": "python",
   "pygments_lexer": "ipython3",
   "version": "3.8.5"
  }
 },
 "nbformat": 4,
 "nbformat_minor": 4
}
