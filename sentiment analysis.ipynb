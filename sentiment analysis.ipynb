{
 "cells": [
  {
   "cell_type": "markdown",
   "metadata": {
    "colab_type": "text",
    "id": "TU_cE-sT3f6-"
   },
   "source": [
    "# Part 1. Sentiment Analysis"
   ]
  },
  {
   "cell_type": "code",
   "execution_count": 1,
   "metadata": {
    "colab": {
     "base_uri": "https://localhost:8080/",
     "height": 55
    },
    "colab_type": "code",
    "id": "JHDk3O3StmjU",
    "outputId": "b49b4171-6e93-49ef-c271-91d47dbed651"
   },
   "outputs": [
    {
     "name": "stdout",
     "output_type": "stream",
     "text": [
      "{'love': 0.9, 'awesome': 0.8, 'cool': 0.6, 'good': 0.4, 'okay': 0.1, 'bad': -0.5, 'terrible': -0.6, 'disgusting': -0.7, 'hate': -0.9}\n"
     ]
    }
   ],
   "source": [
    "myDict = {'love': 0.9, 'awesome': 0.8, 'cool': 0.6, 'good': 0.4, 'okay': 0.1, 'bad': -0.5, 'terrible': -0.6, 'disgusting': -0.7, 'hate': -0.9}\n",
    "print(myDict)"
   ]
  },
  {
   "cell_type": "code",
   "execution_count": 2,
   "metadata": {
    "colab": {
     "base_uri": "https://localhost:8080/",
     "height": 35
    },
    "colab_type": "code",
    "id": "Nak7xsMItwlc",
    "outputId": "40213c67-8793-45fc-f4e5-d898c2f9b8c2"
   },
   "outputs": [
    {
     "name": "stdout",
     "output_type": "stream",
     "text": [
      "I love this class! Analyzing data is so cool\n"
     ]
    }
   ],
   "source": [
    "comment = \"I love this class! Analyzing data is so cool\"\n",
    "print(comment)"
   ]
  },
  {
   "cell_type": "code",
   "execution_count": 3,
   "metadata": {
    "colab": {
     "base_uri": "https://localhost:8080/",
     "height": 35
    },
    "colab_type": "code",
    "id": "QyrgXTWbt2n9",
    "outputId": "82fdccf4-0f08-46eb-ecc0-a4cc6c779c0e"
   },
   "outputs": [
    {
     "name": "stdout",
     "output_type": "stream",
     "text": [
      "['I', 'love', 'this', 'class!', 'Analyzing', 'data', 'is', 'so', 'cool']\n"
     ]
    }
   ],
   "source": [
    "wordlist = comment.split()\n",
    "print(wordlist)"
   ]
  },
  {
   "cell_type": "code",
   "execution_count": 4,
   "metadata": {
    "colab": {
     "base_uri": "https://localhost:8080/",
     "height": 191
    },
    "colab_type": "code",
    "id": "Yy2Z5sSK0ZX2",
    "outputId": "0dfeae55-26c3-4aa1-dd91-da452b640e3e"
   },
   "outputs": [
    {
     "name": "stdout",
     "output_type": "stream",
     "text": [
      "1.5\n",
      "0.16666666666666666\n",
      "-0.7\n",
      "-0.03043478260869565\n",
      "1.7000000000000002\n",
      "0.12142857142857144\n",
      "-0.9\n",
      "-0.045\n",
      "0.1\n",
      "0.007\n"
     ]
    }
   ],
   "source": [
    "myDict = {'love': 0.9, 'awesome': 0.8, 'cool': 0.6, 'good': 0.4, 'okay': 0.1, 'bad': -0.5, 'terrible': -0.6, 'disgusting': -0.7, 'hate': -0.9}\n",
    "words = comment.split()\n",
    "total = 0\n",
    "for i in range(0,9):\n",
    "  key = words[i]\n",
    "  if key in myDict:\n",
    "    total = total + myDict.get(key)\n",
    " \n",
    "print(total)\n",
    "\n",
    "division = 0\n",
    "division = total/len(words)\n",
    "print(division)\n",
    "\n",
    "# Now use the code for four comments\n",
    "# Comment 1 \n",
    "comment = \"Their new shake is disgusting - I thought it was okay at first but then it left a terrible taste in my mouth\"\n",
    "\n",
    "words = comment.split()\n",
    "total = 0\n",
    "for i in range(0,9):\n",
    "  key = words[i]\n",
    "  if key in myDict:\n",
    "  #if word in counts:\n",
    "    total = total + myDict.get(key)\n",
    "    #counts[word] += 1\n",
    "\n",
    "print(total)\n",
    "\n",
    "division = 0\n",
    "division = total/len(words)\n",
    "print(division)\n",
    "\n",
    "\n",
    "# Comment 2\n",
    "\n",
    "comment = \"Spiderman 2 was awesome for a sequel. I love the character development in it\"\n",
    "\n",
    "words = comment.split()\n",
    "total = 0\n",
    "for i in range(0,9):\n",
    "  key = words[i]\n",
    "  if key in myDict:\n",
    "  #if word in counts:\n",
    "    total = total + myDict.get(key)\n",
    "    #counts[word] += 1\n",
    "\n",
    "print(total)\n",
    "\n",
    "division = 0\n",
    "division = total/len(words)\n",
    "print(division)\n",
    "\n",
    "# Comment 3\n",
    "comment = \"If there is one thing I hate more than the bad puns in this movie, it is the terrible acting\"\n",
    "\n",
    "\n",
    "words = comment.split()\n",
    "total = 0\n",
    "for i in range(0,9):\n",
    "  key = words[i]\n",
    "  if key in myDict:\n",
    "  #if word in counts:\n",
    "    total = total + myDict.get(key)\n",
    "    #counts[word] += 1\n",
    "\n",
    "print(total)\n",
    "\n",
    "division = 0\n",
    "division = total/len(words)\n",
    "print('%.3f'%division)\n",
    "\n",
    "# Comment 4\n",
    "comment = \"ah, that was an okay movie, it wasn’t groundbreaking, but I had a good time\"\n",
    "\n",
    "\n",
    "\n",
    "words = comment.split()\n",
    "total = 0\n",
    "for i in range(0,9):\n",
    "  key = words[i]\n",
    "  if key in myDict:\n",
    "  #if word in counts:\n",
    "    total = total + myDict.get(key)\n",
    "    #counts[word] += 1\n",
    "\n",
    "print(total)\n",
    "\n",
    "division = 0\n",
    "division = total/len(words)\n",
    "print('%.3f'%division)\n",
    "\n"
   ]
  },
  {
   "cell_type": "markdown",
   "metadata": {
    "colab_type": "text",
    "id": "9Tjfc1iI3cMh"
   },
   "source": [
    "### Part 2. Titanic Dataset"
   ]
  },
  {
   "cell_type": "code",
   "execution_count": 5,
   "metadata": {
    "colab": {
     "base_uri": "https://localhost:8080/",
     "height": 260
    },
    "colab_type": "code",
    "id": "7v0MtaZI3iTi",
    "outputId": "b2148c41-2ca6-4b98-dc6a-8ce21cbd9c28"
   },
   "outputs": [
    {
     "name": "stdout",
     "output_type": "stream",
     "text": [
      "    PClass    Age  SexCode  Survived\n",
      "0      1st  29.00        1         1\n",
      "1      1st   2.00        1         0\n",
      "2      1st  30.00        0         0\n",
      "3      1st  25.00        1         0\n",
      "4      1st   0.92        0         1\n",
      "..     ...    ...      ...       ...\n",
      "751    3rd  27.00        0         0\n",
      "752    3rd  26.00        0         0\n",
      "753    3rd  22.00        0         0\n",
      "754    3rd  24.00        0         0\n",
      "755    3rd  29.00        0         0\n",
      "\n",
      "[756 rows x 4 columns]\n"
     ]
    }
   ],
   "source": [
    "import pandas as pd\n",
    "import numpy as np\n",
    "\n",
    "# I use method b to calculate the number of people by hand\n",
    "# Making separate data frames with the subsets you need\n",
    "# and calculating how many rows are present\n",
    "\n",
    "#Reading data from a csv file\n",
    "titanic_df = pd.read_csv('titanic_individuals.csv')\n",
    "print(titanic_df)"
   ]
  },
  {
   "cell_type": "code",
   "execution_count": 6,
   "metadata": {
    "colab": {
     "base_uri": "https://localhost:8080/",
     "height": 780
    },
    "colab_type": "code",
    "id": "DLfFZq4g5d9O",
    "outputId": "0b143826-09b2-4c99-f6c5-5d2339fd960a"
   },
   "outputs": [
    {
     "name": "stdout",
     "output_type": "stream",
     "text": [
      "    PClass    Age  SexCode  Survived\n",
      "1      1st   2.00        1         0\n",
      "300    2nd  16.00        0         0\n",
      "411    2nd  14.00        0         0\n",
      "439    3rd  13.00        0         0\n",
      "440    3rd  16.00        0         0\n",
      "457    3rd  17.00        0         0\n",
      "462    3rd   6.00        1         0\n",
      "463    3rd   2.00        1         0\n",
      "466    3rd   9.00        1         0\n",
      "468    3rd  11.00        1         0\n",
      "469    3rd   4.00        0         0\n",
      "478    3rd   5.00        0         0\n",
      "479    3rd   9.00        0         0\n",
      "481    3rd  13.00        0         0\n",
      "486    3rd  17.00        1         0\n",
      "509    3rd   6.00        0         0\n",
      "510    3rd   9.00        1         0\n",
      "527    3rd  17.00        0         0\n",
      "572    3rd   0.33        0         0\n",
      "578    3rd  17.00        0         0\n",
      "603    3rd  16.00        0         0\n",
      "609    3rd   9.00        1         0\n",
      "611    3rd  16.00        0         0\n",
      "622    3rd  14.00        0         0\n",
      "623    3rd  16.00        1         0\n",
      "624    3rd   9.00        0         0\n",
      "625    3rd  10.00        1         0\n",
      "626    3rd   6.00        0         0\n",
      "627    3rd  11.00        0         0\n",
      "635    3rd  17.00        1         0\n",
      "650    3rd   2.00        1         0\n",
      "660    3rd  17.00        0         0\n",
      "678    3rd  17.00        0         0\n",
      "700    3rd   1.50        1         0\n",
      "723    3rd   1.50        1         0\n",
      "730    3rd  15.00        0         0\n",
      "734    3rd  10.00        1         0\n",
      "740    3rd  14.00        1         0\n",
      "Survived PClass\n",
      "1st     1\n",
      "2nd     2\n",
      "3rd    35\n",
      "Name: Survived, dtype: int64\n"
     ]
    }
   ],
   "source": [
    "children_df = titanic_df[((titanic_df['Age'] < 18) & (titanic_df['Survived'] == 0))]\n",
    "print(children_df)\n",
    "\n",
    "grouped = children_df.groupby('PClass')\n",
    "print(\"Survived\", grouped['Survived'].count()) \n"
   ]
  },
  {
   "cell_type": "code",
   "execution_count": 7,
   "metadata": {
    "colab": {
     "base_uri": "https://localhost:8080/",
     "height": 1127
    },
    "colab_type": "code",
    "id": "y56FeUon8U1N",
    "outputId": "9a0060a5-ae68-4023-f4e5-03fb507f0b7d"
   },
   "outputs": [
    {
     "name": "stdout",
     "output_type": "stream",
     "text": [
      "    PClass    Age  SexCode  Survived\n",
      "4      1st   0.92        0         1\n",
      "40     1st  14.00        1         1\n",
      "41     1st  11.00        0         1\n",
      "63     1st  17.00        1         1\n",
      "64     1st   4.00        0         1\n",
      "109    1st  16.00        1         1\n",
      "127    1st  16.00        1         1\n",
      "131    1st  15.00        1         1\n",
      "154    1st  17.00        1         1\n",
      "167    1st  13.00        0         1\n",
      "184    1st   6.00        0         1\n",
      "202    1st  17.00        0         1\n",
      "241    2nd   4.00        1         1\n",
      "242    2nd   1.00        0         1\n",
      "243    2nd  12.00        1         1\n",
      "249    2nd  15.00        1         1\n",
      "259    2nd   0.83        0         1\n",
      "273    2nd   8.00        1         1\n",
      "279    2nd   8.00        0         1\n",
      "290    2nd   8.00        0         1\n",
      "311    2nd   1.00        0         1\n",
      "314    2nd   6.00        1         1\n",
      "318    2nd   7.00        1         1\n",
      "336    2nd  17.00        1         1\n",
      "347    2nd   1.00        1         1\n",
      "348    2nd   3.00        1         1\n",
      "352    2nd   2.00        0         1\n",
      "360    2nd  13.00        1         1\n",
      "369    2nd   2.00        0         1\n",
      "371    2nd   3.00        0         1\n",
      "388    2nd   2.00        1         1\n",
      "389    2nd   8.00        1         1\n",
      "395    2nd   0.80        0         1\n",
      "397    2nd   3.00        0         1\n",
      "423    2nd  12.00        1         1\n",
      "429    2nd   4.00        1         1\n",
      "430    2nd   2.00        0         1\n",
      "442    3rd  16.00        1         1\n",
      "452    3rd   0.83        0         1\n",
      "464    3rd  17.00        1         1\n",
      "480    3rd   3.00        0         1\n",
      "483    3rd   5.00        1         1\n",
      "492    3rd   3.00        1         1\n",
      "496    3rd  15.00        1         1\n",
      "535    3rd  16.00        1         1\n",
      "559    3rd   3.00        0         1\n",
      "560    3rd   9.00        0         1\n",
      "564    3rd  17.00        1         1\n",
      "581    3rd   1.00        0         1\n",
      "582    3rd   0.17        1         1\n",
      "606    3rd   5.00        1         1\n",
      "615    3rd  16.00        1         1\n",
      "617    3rd   9.00        0         1\n",
      "668    3rd   1.00        1         1\n",
      "670    3rd   4.00        0         1\n",
      "684    3rd   4.00        1         1\n",
      "697    3rd   4.00        1         1\n",
      "750    3rd  15.00        1         1\n",
      "Survived PClass\n",
      "1st    12\n",
      "2nd    25\n",
      "3rd    21\n",
      "Name: Survived, dtype: int64\n"
     ]
    }
   ],
   "source": [
    "children_df = titanic_df[((titanic_df['Age'] < 18) & (titanic_df['Survived'] == 1))]\n",
    "print(children_df)\n",
    "\n",
    "grouped = children_df.groupby('PClass')\n",
    "print(\"Survived\", grouped['Survived'].count()) \n"
   ]
  },
  {
   "cell_type": "code",
   "execution_count": 8,
   "metadata": {
    "colab": {
     "base_uri": "https://localhost:8080/",
     "height": 347
    },
    "colab_type": "code",
    "id": "Qs70xniZ8c4B",
    "outputId": "2dea61e6-b7b9-4865-b1d0-42ded9b8535c"
   },
   "outputs": [
    {
     "name": "stdout",
     "output_type": "stream",
     "text": [
      "    PClass   Age  SexCode  Survived\n",
      "2      1st  30.0        0         0\n",
      "3      1st  25.0        1         0\n",
      "7      1st  39.0        0         0\n",
      "9      1st  71.0        0         0\n",
      "10     1st  47.0        0         0\n",
      "..     ...   ...      ...       ...\n",
      "751    3rd  27.0        0         0\n",
      "752    3rd  26.0        0         0\n",
      "753    3rd  22.0        0         0\n",
      "754    3rd  24.0        0         0\n",
      "755    3rd  29.0        0         0\n",
      "\n",
      "[386 rows x 4 columns]\n",
      "Survived PClass\n",
      "1st     85\n",
      "2nd    108\n",
      "3rd    193\n",
      "Name: Survived, dtype: int64\n"
     ]
    }
   ],
   "source": [
    "adult_df = titanic_df[((titanic_df['Age'] > 18) & (titanic_df['Survived'] == 0))]\n",
    "print(adult_df)\n",
    "\n",
    "grouped = adult_df.groupby('PClass')\n",
    "print(\"Survived\", grouped['Survived'].count()) \n"
   ]
  },
  {
   "cell_type": "code",
   "execution_count": 9,
   "metadata": {
    "colab": {
     "base_uri": "https://localhost:8080/",
     "height": 780
    },
    "colab_type": "code",
    "id": "UZYvL_Mi8eKB",
    "outputId": "1d705d7f-4824-4c51-dda1-013152facbdc"
   },
   "outputs": [
    {
     "name": "stdout",
     "output_type": "stream",
     "text": [
      "    PClass    Age  SexCode  Survived\n",
      "1      1st   2.00        1         0\n",
      "300    2nd  16.00        0         0\n",
      "411    2nd  14.00        0         0\n",
      "439    3rd  13.00        0         0\n",
      "440    3rd  16.00        0         0\n",
      "457    3rd  17.00        0         0\n",
      "462    3rd   6.00        1         0\n",
      "463    3rd   2.00        1         0\n",
      "466    3rd   9.00        1         0\n",
      "468    3rd  11.00        1         0\n",
      "469    3rd   4.00        0         0\n",
      "478    3rd   5.00        0         0\n",
      "479    3rd   9.00        0         0\n",
      "481    3rd  13.00        0         0\n",
      "486    3rd  17.00        1         0\n",
      "509    3rd   6.00        0         0\n",
      "510    3rd   9.00        1         0\n",
      "527    3rd  17.00        0         0\n",
      "572    3rd   0.33        0         0\n",
      "578    3rd  17.00        0         0\n",
      "603    3rd  16.00        0         0\n",
      "609    3rd   9.00        1         0\n",
      "611    3rd  16.00        0         0\n",
      "622    3rd  14.00        0         0\n",
      "623    3rd  16.00        1         0\n",
      "624    3rd   9.00        0         0\n",
      "625    3rd  10.00        1         0\n",
      "626    3rd   6.00        0         0\n",
      "627    3rd  11.00        0         0\n",
      "635    3rd  17.00        1         0\n",
      "650    3rd   2.00        1         0\n",
      "660    3rd  17.00        0         0\n",
      "678    3rd  17.00        0         0\n",
      "700    3rd   1.50        1         0\n",
      "723    3rd   1.50        1         0\n",
      "730    3rd  15.00        0         0\n",
      "734    3rd  10.00        1         0\n",
      "740    3rd  14.00        1         0\n",
      "Survived PClass\n",
      "1st     1\n",
      "2nd     2\n",
      "3rd    35\n",
      "Name: Survived, dtype: int64\n"
     ]
    }
   ],
   "source": [
    "children_df = titanic_df[((titanic_df['Age'] < 18) & (titanic_df['Survived'] == 0))]\n",
    "print(children_df)\n",
    "\n",
    "grouped = children_df.groupby('PClass')\n",
    "print(\"Survived\", grouped['Survived'].count()) \n"
   ]
  }
 ],
 "metadata": {
  "colab": {
   "collapsed_sections": [],
   "name": "exam2_rubeniaborge.ipynb",
   "provenance": []
  },
  "kernelspec": {
   "display_name": "Python 3",
   "language": "python",
   "name": "python3"
  },
  "language_info": {
   "codemirror_mode": {
    "name": "ipython",
    "version": 3
   },
   "file_extension": ".py",
   "mimetype": "text/x-python",
   "name": "python",
   "nbconvert_exporter": "python",
   "pygments_lexer": "ipython3",
   "version": "3.8.5"
  }
 },
 "nbformat": 4,
 "nbformat_minor": 1
}
