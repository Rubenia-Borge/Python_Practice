{
 "cells": [
  {
   "cell_type": "code",
   "execution_count": null,
   "metadata": {},
   "outputs": [],
   "source": [
    "# Python Workshop 5"
   ]
  },
  {
   "cell_type": "code",
   "execution_count": null,
   "metadata": {},
   "outputs": [],
   "source": [
    "# Convert two lists into a dictionary"
   ]
  },
  {
   "cell_type": "code",
   "execution_count": 3,
   "metadata": {},
   "outputs": [
    {
     "name": "stdout",
     "output_type": "stream",
     "text": [
      "These are the grades for last semester: \n",
      " {'machine_learning': 85, 'artificial_intelligence': 96, 'deep_learning': 89, 'statistics': 93, 'data_science': 90, 'data_visualization': 87}\n"
     ]
    }
   ],
   "source": [
    "keys = ['machine_learning', 'artificial_intelligence', 'deep_learning', 'statistics', 'data_science', 'data_visualization']\n",
    "values = [85, 96, 89, 93, 90, 87]\n",
    "\n",
    "grades = dict(zip(keys, values))\n",
    "print(\"These are the grades for last semester:\", \"\\n\", grades)"
   ]
  },
  {
   "cell_type": "code",
   "execution_count": null,
   "metadata": {},
   "outputs": [],
   "source": [
    "# Merge two different dictionaries into a third dictionary"
   ]
  },
  {
   "cell_type": "code",
   "execution_count": 8,
   "metadata": {},
   "outputs": [
    {
     "name": "stdout",
     "output_type": "stream",
     "text": [
      "Includes grades for fall only:  {'machine_learning': 85, 'artificial_intelligence': 96, 'deep_learning': 89, 'statistics': 93, 'data_science': 90, 'data_visualization': 87} \n",
      "Includes grades for spring only:  {'ethical_ai': 99, 'big_data': 89, 'advanced_statistics': 86} \n",
      "Includes grades for summer only:  {'data_structures': 83, 'algorithms': 88, 'python_programing': 92}\n",
      "\n",
      "Now the grades for the academic year:  {'machine_learning': 85, 'artificial_intelligence': 96, 'deep_learning': 89, 'statistics': 93, 'data_science': 90, 'data_visualization': 87, 'ethical_ai': 99, 'big_data': 89, 'advanced_statistics': 86} \n",
      "And finally the grades for the entire year:  {'machine_learning': 85, 'artificial_intelligence': 96, 'deep_learning': 89, 'statistics': 93, 'data_science': 90, 'data_visualization': 87, 'ethical_ai': 99, 'big_data': 89, 'advanced_statistics': 86, 'data_structures': 83, 'algorithms': 88, 'python_programing': 92}\n"
     ]
    }
   ],
   "source": [
    "grades_fall =  {'machine_learning': 85, 'artificial_intelligence': 96, 'deep_learning': 89, 'statistics': 93, 'data_science': 90, 'data_visualization': 87}\n",
    "\n",
    "grades_spring = {'ethical_ai': 99, 'big_data': 89, 'advanced_statistics': 86}\n",
    "\n",
    "grades_summer = {'data_structures': 83, 'algorithms': 88, 'python_programing': 92}\n",
    "\n",
    "grades_academic_year = {**grades_fall, **grades_spring}\n",
    "\n",
    "grades_year = {**grades_fall, **grades_spring, **grades_summer}\n",
    "\n",
    "print(\"Includes grades for fall only: \", grades_fall, \"\\nIncludes grades for spring only: \", grades_spring, \"\\nIncludes grades for summer only: \", grades_summer)\n",
    "\n",
    "print(\"\\nNow the grades for the academic year: \", grades_academic_year, \"\\nAnd finally the grades for the entire year: \", grades_year)"
   ]
  },
  {
   "cell_type": "code",
   "execution_count": null,
   "metadata": {},
   "outputs": [],
   "source": [
    "# Access the value of a key"
   ]
  },
  {
   "cell_type": "code",
   "execution_count": 28,
   "metadata": {},
   "outputs": [
    {
     "name": "stdout",
     "output_type": "stream",
     "text": [
      "This is the entire class dictionary: \n",
      " {'student': {'name': 'Alexis', 'lastname': 'Martinez', 'level': 'freshman', 'gender': 'female', 'age': 18, 'hobbie': 'dancing', 'musicalinstrument': 'guitar', 'year': '2021', 'grades': {'Spanish': 89, 'History': 77, 'Algebra': 90, 'Physics': 93, 'Chemistry': 91}}} \n",
      "\n",
      "This is the student nested dictionary: \n",
      " {'name': 'Alexis', 'lastname': 'Martinez', 'level': 'freshman', 'gender': 'female', 'age': 18, 'hobbie': 'dancing', 'musicalinstrument': 'guitar', 'year': '2021', 'grades': {'Spanish': 89, 'History': 77, 'Algebra': 90, 'Physics': 93, 'Chemistry': 91}} \n",
      "\n",
      "\n",
      "Printing independently each element of the student nested dictionary: \n",
      "\n",
      " Alexis \n",
      " Martinez \n",
      " freshman \n",
      " female \n",
      " 18 \n",
      " dancing \n",
      " guitar \n",
      " 2021 \n",
      " {'Spanish': 89, 'History': 77, 'Algebra': 90, 'Physics': 93, 'Chemistry': 91}\n",
      "\n",
      "This is the nested dictionary grades; grades is nested in student and student is nested in class: \n",
      " {'Spanish': 89, 'History': 77, 'Algebra': 90, 'Physics': 93, 'Chemistry': 91}\n"
     ]
    }
   ],
   "source": [
    "roster = {\n",
    "    'class': {\n",
    "        'student':{\n",
    "            'name': 'Alexis',\n",
    "            'lastname': 'Martinez',\n",
    "            'level':'freshman',\n",
    "            'gender': 'female',\n",
    "            'age':18,\n",
    "            'hobbie': 'dancing',\n",
    "            'musicalinstrument':'guitar',\n",
    "            'year':'2021',\n",
    "            'grades':{\n",
    "                'Spanish': 89,\n",
    "                'History': 77,\n",
    "                'Algebra': 90,\n",
    "                'Physics': 93,\n",
    "                'Chemistry': 91\n",
    "            }            \n",
    "        }\n",
    "    }\n",
    "}\n",
    "\n",
    "print(\"This is the entire class dictionary: \\n\", roster['class'], \"\\n\")\n",
    "\n",
    "\n",
    "\n",
    "print(\"This is the student nested dictionary: \\n\", roster['class']['student'], \"\\n\")\n",
    "\n",
    "print(\"\\nPrinting independently each element of the student nested dictionary: \")\n",
    "\n",
    "print(\"\\n\", roster['class']['student']['name'], \"\\n\",\n",
    "      roster['class']['student']['lastname'], \"\\n\",\n",
    "      roster['class']['student']['level'], \"\\n\",\n",
    "      roster['class']['student']['gender'], \"\\n\",\n",
    "      roster['class']['student']['age'], \"\\n\",\n",
    "      roster['class']['student']['hobbie'], \"\\n\",\n",
    "      roster['class']['student']['musicalinstrument'], \"\\n\",\n",
    "      roster['class']['student']['year'], \"\\n\",\n",
    "      roster['class']['student']['grades']\n",
    ")\n",
    "\n",
    "\n",
    "print(\"\\nThis is the nested dictionary grades; grades is nested in student and student is nested in class: \\n\", roster['class']['student']['grades'])\n",
    "\n",
    "#print(roster['class']['student']['name'])\n",
    "#print(roster['class']['student']['lastname'])\n",
    "#print(roster['class']['student']['level'])\n",
    "#print(roster['class']['student']['gender'])\n",
    "#print(roster['class']['student']['age'])\n",
    "#print(roster['class']['student']['hobbie'])\n",
    "#print(roster['class']['student']['musicalinstrument'])\n",
    "#print(roster['class']['student']['year'])\n",
    "#print(roster['class']['student']['grades'])\n"
   ]
  },
  {
   "cell_type": "code",
   "execution_count": null,
   "metadata": {},
   "outputs": [],
   "source": [
    "# Initialize dictionaries with default values"
   ]
  },
  {
   "cell_type": "code",
   "execution_count": 38,
   "metadata": {},
   "outputs": [
    {
     "name": "stdout",
     "output_type": "stream",
     "text": [
      "\n",
      "This is the complete dictionary: \n",
      " {'id1': {'level': 'freshman', 'admission': '2021', 'semester': 'fall', 'gpa': 3.5, 'honors_program': 'yes'}, 'id2': {'level': 'freshman', 'admission': '2021', 'semester': 'fall', 'gpa': 3.5, 'honors_program': 'yes'}, 'id3': {'level': 'freshman', 'admission': '2021', 'semester': 'fall', 'gpa': 3.5, 'honors_program': 'yes'}, 'id4': {'level': 'freshman', 'admission': '2021', 'semester': 'fall', 'gpa': 3.5, 'honors_program': 'yes'}, 'id5': {'level': 'freshman', 'admission': '2021', 'semester': 'fall', 'gpa': 3.5, 'honors_program': 'yes'}}\n",
      "\n",
      "These are the individual elements of the dictionaries with default values: \n",
      " {'level': 'freshman', 'admission': '2021', 'semester': 'fall', 'gpa': 3.5, 'honors_program': 'yes'} \n",
      " {'level': 'freshman', 'admission': '2021', 'semester': 'fall', 'gpa': 3.5, 'honors_program': 'yes'} \n",
      " {'level': 'freshman', 'admission': '2021', 'semester': 'fall', 'gpa': 3.5, 'honors_program': 'yes'} \n",
      " {'level': 'freshman', 'admission': '2021', 'semester': 'fall', 'gpa': 3.5, 'honors_program': 'yes'} \n",
      " {'level': 'freshman', 'admission': '2021', 'semester': 'fall', 'gpa': 3.5, 'honors_program': 'yes'}\n"
     ]
    }
   ],
   "source": [
    "#employees = ['Kelly', 'Emma', 'John']\n",
    "#defaults = {\"designation\": 'Application Developer', \"salary\": 8000}\n",
    "# Individual data\n",
    "#print(resDict[\"Kelly\"])\n",
    "#print(resDict[\"Emma\"])\n",
    "#print(resDict[\"John\"])\n",
    "#resDict = dict.fromkeys(employees, defaults)\n",
    "#print(resDict)\n",
    "\n",
    "\n",
    "students = ['id1', 'id2', 'id3', 'id4', 'id5']\n",
    "default_registration = {'level': 'freshman', 'admission': '2021', 'semester': 'fall', 'gpa': 3.5, 'honors_program': 'yes'}\n",
    "\n",
    "default_enrollment = dict.fromkeys(students,default_registration)\n",
    "\n",
    "print(\"\\nThis is the complete dictionary: \\n\",default_enrollment)\n",
    "\n",
    "print(\"\\nThese are the individual elements of the dictionaries with default values: \\n\", \n",
    "      default_enrollment['id1'], \"\\n\",\n",
    "      default_enrollment['id2'], \"\\n\",\n",
    "      default_enrollment['id3'], \"\\n\",\n",
    "      default_enrollment['id4'], \"\\n\",\n",
    "      default_enrollment['id5']\n",
    "     )\n",
    "\n",
    "\n",
    "\n"
   ]
  },
  {
   "cell_type": "code",
   "execution_count": null,
   "metadata": {},
   "outputs": [],
   "source": []
  }
 ],
 "metadata": {
  "kernelspec": {
   "display_name": "Python 3",
   "language": "python",
   "name": "python3"
  },
  "language_info": {
   "codemirror_mode": {
    "name": "ipython",
    "version": 3
   },
   "file_extension": ".py",
   "mimetype": "text/x-python",
   "name": "python",
   "nbconvert_exporter": "python",
   "pygments_lexer": "ipython3",
   "version": "3.8.5"
  }
 },
 "nbformat": 4,
 "nbformat_minor": 4
}
