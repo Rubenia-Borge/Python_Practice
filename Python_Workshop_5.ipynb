{
 "cells": [
  {
   "cell_type": "code",
   "execution_count": null,
   "metadata": {},
   "outputs": [],
   "source": [
    "# Python Workshop 5"
   ]
  },
  {
   "cell_type": "code",
   "execution_count": null,
   "metadata": {},
   "outputs": [],
   "source": [
    "# Convert two lists into a dictionary"
   ]
  },
  {
   "cell_type": "code",
   "execution_count": 3,
   "metadata": {},
   "outputs": [
    {
     "name": "stdout",
     "output_type": "stream",
     "text": [
      "These are the grades for last semester: \n",
      " {'machine_learning': 85, 'artificial_intelligence': 96, 'deep_learning': 89, 'statistics': 93, 'data_science': 90, 'data_visualization': 87}\n"
     ]
    }
   ],
   "source": [
    "keys = ['machine_learning', 'artificial_intelligence', 'deep_learning', 'statistics', 'data_science', 'data_visualization']\n",
    "values = [85, 96, 89, 93, 90, 87]\n",
    "\n",
    "grades = dict(zip(keys, values))\n",
    "print(\"These are the grades for last semester:\", \"\\n\", grades)"
   ]
  },
  {
   "cell_type": "code",
   "execution_count": null,
   "metadata": {},
   "outputs": [],
   "source": [
    "# Merge two different dictionaries into a third dictionary"
   ]
  },
  {
   "cell_type": "code",
   "execution_count": 6,
   "metadata": {},
   "outputs": [
    {
     "name": "stdout",
     "output_type": "stream",
     "text": [
      "{'machine_learning': 85, 'artificial_intelligence': 96, 'deep_learning': 89, 'statistics': 93, 'data_science': 90, 'data_visualization': 87, 'ethical_ai': 99, 'big_data': 89, 'advanced_statistics': 86, 'data_structures': 83, 'algorithms': 88, 'python_programing': 92}\n"
     ]
    }
   ],
   "source": [
    "grades_fall =  {'machine_learning': 85, 'artificial_intelligence': 96, 'deep_learning': 89, 'statistics': 93, 'data_science': 90, 'data_visualization': 87}\n",
    "\n",
    "grades_spring = {'ethical_ai': 99, 'big_data': 89, 'advanced_statistics': 86}\n",
    "\n",
    "grades_summer = {'data_structures': 83, 'algorithms': 88, 'python_programing': 92}\n",
    "\n",
    "grades_academic_year = {**grades_fall, **grades_spring}\n",
    "\n",
    "grades_year = {**grades_fall, **grades_spring, **grades_summer}\n",
    "\n",
    "print(grades_year)\n",
    "\n"
   ]
  },
  {
   "cell_type": "code",
   "execution_count": null,
   "metadata": {},
   "outputs": [],
   "source": []
  }
 ],
 "metadata": {
  "kernelspec": {
   "display_name": "Python 3",
   "language": "python",
   "name": "python3"
  },
  "language_info": {
   "codemirror_mode": {
    "name": "ipython",
    "version": 3
   },
   "file_extension": ".py",
   "mimetype": "text/x-python",
   "name": "python",
   "nbconvert_exporter": "python",
   "pygments_lexer": "ipython3",
   "version": "3.8.5"
  }
 },
 "nbformat": 4,
 "nbformat_minor": 4
}
