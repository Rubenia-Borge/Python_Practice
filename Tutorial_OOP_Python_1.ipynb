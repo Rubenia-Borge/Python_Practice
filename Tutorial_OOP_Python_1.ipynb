{
 "cells": [
  {
   "cell_type": "code",
   "execution_count": null,
   "metadata": {},
   "outputs": [],
   "source": [
    "# Object Oriented Programming in Python\n",
    "\n",
    "# https://realpython.com/python3-object-oriented-programming/"
   ]
  },
  {
   "cell_type": "code",
   "execution_count": 1,
   "metadata": {},
   "outputs": [
    {
     "name": "stdout",
     "output_type": "stream",
     "text": [
      "['Alana, Torres', 28, 'Scientist', 3546]\n",
      "['Nahomi Chess', 33, 'Developer', 2326]\n",
      "['Lona Tellez', 55, 'Developer', 9832]\n"
     ]
    }
   ],
   "source": [
    "alana = ['Alana, Torres', 28, \"Scientist\", 3546]\n",
    "nahomi = ['Nahomi Chess', 33, \"Developer\", 2326]\n",
    "lona = ['Lona Tellez',55, \"Developer\", 9832]\n",
    "\n",
    "print(alana)\n",
    "print(nahomi)\n",
    "print(lona)"
   ]
  },
  {
   "cell_type": "code",
   "execution_count": 9,
   "metadata": {},
   "outputs": [],
   "source": [
    "# Define a class\n",
    "class Dog:\n",
    "    pass"
   ]
  },
  {
   "cell_type": "code",
   "execution_count": null,
   "metadata": {},
   "outputs": [],
   "source": [
    "# Instantiate objects of the class Dob"
   ]
  },
  {
   "cell_type": "code",
   "execution_count": 10,
   "metadata": {},
   "outputs": [
    {
     "data": {
      "text/plain": [
       "<__main__.Dog at 0x232cdfc3df0>"
      ]
     },
     "execution_count": 10,
     "metadata": {},
     "output_type": "execute_result"
    }
   ],
   "source": [
    "# Fist instance\n",
    "\n",
    "Dog()"
   ]
  },
  {
   "cell_type": "code",
   "execution_count": 12,
   "metadata": {},
   "outputs": [
    {
     "data": {
      "text/plain": [
       "<__main__.Dog at 0x232cdfaa400>"
      ]
     },
     "execution_count": 12,
     "metadata": {},
     "output_type": "execute_result"
    }
   ],
   "source": [
    "# Second instance\n",
    "\n",
    "Dog()"
   ]
  },
  {
   "cell_type": "code",
   "execution_count": 13,
   "metadata": {},
   "outputs": [],
   "source": [
    "# Third instance\n",
    "\n",
    "a = Dog()"
   ]
  },
  {
   "cell_type": "code",
   "execution_count": 14,
   "metadata": {},
   "outputs": [],
   "source": [
    "# Fourth instance\n",
    "\n",
    "b = Dog()"
   ]
  },
  {
   "cell_type": "code",
   "execution_count": 15,
   "metadata": {},
   "outputs": [
    {
     "data": {
      "text/plain": [
       "False"
      ]
     },
     "execution_count": 15,
     "metadata": {},
     "output_type": "execute_result"
    }
   ],
   "source": [
    "# Comparing if the Third instance is the same as the fourth instance\n",
    "# The result is false because they are not the same\n",
    "# They are two different objects located in two different memory locations\n",
    "\n",
    "a == b"
   ]
  },
  {
   "cell_type": "code",
   "execution_count": 40,
   "metadata": {},
   "outputs": [],
   "source": [
    "# Adding properties to a class\n",
    "class Dog:\n",
    "    def __init__(self, name, age, color, breed):\n",
    "        self.name = name\n",
    "        self.age = age\n",
    "        self.color = color\n",
    "        self.breed = breed"
   ]
  },
  {
   "cell_type": "code",
   "execution_count": 41,
   "metadata": {},
   "outputs": [],
   "source": [
    "x = Dog('Albi', 3, 'white', 'bulldog')"
   ]
  },
  {
   "cell_type": "code",
   "execution_count": 42,
   "metadata": {},
   "outputs": [
    {
     "name": "stdout",
     "output_type": "stream",
     "text": [
      "\n",
      " Albi \n",
      " 3 \n",
      " white \n",
      " bulldog\n"
     ]
    }
   ],
   "source": [
    "print(\"\\n\", x.name, \"\\n\", x.age, \"\\n\", x.color,\"\\n\", x.breed)"
   ]
  },
  {
   "cell_type": "code",
   "execution_count": 43,
   "metadata": {},
   "outputs": [
    {
     "ename": "AttributeError",
     "evalue": "'Dog' object has no attribute 'species'",
     "output_type": "error",
     "traceback": [
      "\u001b[1;31m---------------------------------------------------------------------------\u001b[0m",
      "\u001b[1;31mAttributeError\u001b[0m                            Traceback (most recent call last)",
      "\u001b[1;32m<ipython-input-43-aab8dd0362fb>\u001b[0m in \u001b[0;36m<module>\u001b[1;34m\u001b[0m\n\u001b[1;32m----> 1\u001b[1;33m \u001b[0mprint\u001b[0m\u001b[1;33m(\u001b[0m\u001b[1;34m\"\\n\"\u001b[0m\u001b[1;33m,\u001b[0m \u001b[0mx\u001b[0m\u001b[1;33m.\u001b[0m\u001b[0mspecies\u001b[0m\u001b[1;33m)\u001b[0m\u001b[1;33m\u001b[0m\u001b[1;33m\u001b[0m\u001b[0m\n\u001b[0m",
      "\u001b[1;31mAttributeError\u001b[0m: 'Dog' object has no attribute 'species'"
     ]
    }
   ],
   "source": [
    "print(\"\\n\", x.species)"
   ]
  },
  {
   "cell_type": "code",
   "execution_count": 44,
   "metadata": {},
   "outputs": [],
   "source": [
    "# Adding a class attribute to a class\n",
    "# \n",
    "\n",
    "class Dog:\n",
    "    # Class attribute\n",
    "    species = \"Beagle\"\n",
    "    \n",
    "    def __init__(self, name, age, color, breed):\n",
    "        self.name = name\n",
    "        self.age = age\n",
    "        self.color = color\n",
    "        self.breed = breed\n"
   ]
  },
  {
   "cell_type": "code",
   "execution_count": 21,
   "metadata": {},
   "outputs": [],
   "source": [
    "# Class an instance attributes\n",
    "# Now we instanciate classes with attributes"
   ]
  },
  {
   "cell_type": "code",
   "execution_count": 28,
   "metadata": {},
   "outputs": [
    {
     "data": {
      "text/plain": [
       "<__main__.Dog at 0x232ce0abb80>"
      ]
     },
     "execution_count": 28,
     "metadata": {},
     "output_type": "execute_result"
    }
   ],
   "source": [
    "Dog (\"Rocko\", 2, \"brown\", \"bulldog\")\n"
   ]
  },
  {
   "cell_type": "code",
   "execution_count": 29,
   "metadata": {},
   "outputs": [],
   "source": [
    "a = Dog (\"Rocko\", 2, \"brown\", \"bulldog\")"
   ]
  },
  {
   "cell_type": "code",
   "execution_count": 30,
   "metadata": {},
   "outputs": [
    {
     "name": "stdout",
     "output_type": "stream",
     "text": [
      "<__main__.Dog object at 0x00000232CE0AB220>\n"
     ]
    }
   ],
   "source": [
    "print(a)"
   ]
  },
  {
   "cell_type": "code",
   "execution_count": 34,
   "metadata": {},
   "outputs": [
    {
     "name": "stdout",
     "output_type": "stream",
     "text": [
      "\n",
      " Rocko \n",
      " Beagle \n",
      " 2 \n",
      " brown \n",
      " bulldog\n"
     ]
    }
   ],
   "source": [
    "print(\"\\n\",a.name,\"\\n\", a.species, \"\\n\", a.age,\"\\n\", a.color,\"\\n\", a.breed)"
   ]
  },
  {
   "cell_type": "code",
   "execution_count": 45,
   "metadata": {},
   "outputs": [
    {
     "data": {
      "text/plain": [
       "<__main__.Dog at 0x232cdfc3c10>"
      ]
     },
     "execution_count": 45,
     "metadata": {},
     "output_type": "execute_result"
    }
   ],
   "source": [
    "Dog (\"Titan\", 5, \"black\", \"Terrier\")"
   ]
  },
  {
   "cell_type": "code",
   "execution_count": 46,
   "metadata": {},
   "outputs": [],
   "source": [
    "b = Dog (\"Titan\", 5, \"black\", \"Terrier\")"
   ]
  },
  {
   "cell_type": "code",
   "execution_count": 47,
   "metadata": {},
   "outputs": [
    {
     "name": "stdout",
     "output_type": "stream",
     "text": [
      "\n",
      " Titan \n",
      " Beagle \n",
      " 5 \n",
      " black \n",
      " Terrier\n"
     ]
    }
   ],
   "source": [
    "print(\"\\n\",b.name,\"\\n\", b.species, \"\\n\", b.age,\"\\n\", b.color,\"\\n\", b.breed)"
   ]
  },
  {
   "cell_type": "code",
   "execution_count": 48,
   "metadata": {},
   "outputs": [
    {
     "name": "stdout",
     "output_type": "stream",
     "text": [
      "\n",
      " Lolo \n",
      " Terrier \n",
      " 7 \n",
      " Brown \n",
      " Bulldog\n"
     ]
    }
   ],
   "source": [
    "# Changing/Updating the attributes of the classes\n",
    "\n",
    "a.name = 'Lolo'\n",
    "a.species = 'Terrier'\n",
    "a.age = 7\n",
    "a.color = 'Brown'\n",
    "a.breed = 'Bulldog'\n",
    "\n",
    "print(\"\\n\",a.name,\"\\n\", a.species, \"\\n\", a.age,\"\\n\", a.color,\"\\n\", a.breed)"
   ]
  },
  {
   "cell_type": "code",
   "execution_count": 49,
   "metadata": {},
   "outputs": [
    {
     "name": "stdout",
     "output_type": "stream",
     "text": [
      "\n",
      " Alo \n",
      " Beagle \n",
      " 10 \n",
      " White \n",
      " Terrier\n"
     ]
    }
   ],
   "source": [
    "# Changing/Updating the attributes of the classes\n",
    "\n",
    "b.name = 'Alo'\n",
    "b.species = 'Beagle'\n",
    "b.age = 10\n",
    "b.color = 'White'\n",
    "b.breed = 'Terrier'\n",
    "\n",
    "print(\"\\n\",b.name,\"\\n\", b.species, \"\\n\", b.age,\"\\n\", b.color,\"\\n\", b.breed)"
   ]
  },
  {
   "cell_type": "code",
   "execution_count": null,
   "metadata": {},
   "outputs": [],
   "source": [
    "# Instance Methods\n",
    "# Instance methods are functions that are defined inside a class and can only be called from an instance of that class.\n",
    "# Just like .__init__(), an instance method’s first parameter is always self."
   ]
  },
  {
   "cell_type": "code",
   "execution_count": 50,
   "metadata": {},
   "outputs": [],
   "source": [
    "class Dog:\n",
    "    species = \"Canis familiaris\"\n",
    "\n",
    "    def __init__(self, name, age):\n",
    "        self.name = name\n",
    "        self.age = age\n",
    "\n",
    "    # Instance method\n",
    "    def description(self):\n",
    "        return f\"{self.name} is {self.age} years old\"\n",
    "\n",
    "    # Another instance method\n",
    "    def speak(self, sound):\n",
    "        return f\"{self.name} says {sound}\""
   ]
  },
  {
   "cell_type": "code",
   "execution_count": 51,
   "metadata": {},
   "outputs": [],
   "source": [
    "miles = Dog(\"Miles\", 4)"
   ]
  },
  {
   "cell_type": "code",
   "execution_count": 52,
   "metadata": {},
   "outputs": [
    {
     "data": {
      "text/plain": [
       "'Miles is 4 years old'"
      ]
     },
     "execution_count": 52,
     "metadata": {},
     "output_type": "execute_result"
    }
   ],
   "source": [
    "miles.description()"
   ]
  },
  {
   "cell_type": "code",
   "execution_count": 53,
   "metadata": {},
   "outputs": [
    {
     "data": {
      "text/plain": [
       "'Miles says Woof Woof'"
      ]
     },
     "execution_count": 53,
     "metadata": {},
     "output_type": "execute_result"
    }
   ],
   "source": [
    "miles.speak(\"Woof Woof\")"
   ]
  },
  {
   "cell_type": "code",
   "execution_count": 54,
   "metadata": {},
   "outputs": [
    {
     "data": {
      "text/plain": [
       "'Miles says Bow Wow'"
      ]
     },
     "execution_count": 54,
     "metadata": {},
     "output_type": "execute_result"
    }
   ],
   "source": [
    "miles.speak(\"Bow Wow\")"
   ]
  },
  {
   "cell_type": "code",
   "execution_count": null,
   "metadata": {},
   "outputs": [],
   "source": []
  },
  {
   "cell_type": "code",
   "execution_count": 74,
   "metadata": {},
   "outputs": [],
   "source": [
    "class Album:\n",
    "    # Class attribute\n",
    "    category = \"music\"\n",
    "\n",
    "    def __init__(self, title, year, genre, author):\n",
    "        self.title = title\n",
    "        self.year = year\n",
    "        self.genre = genre\n",
    "        self.author = author\n",
    "        \n",
    "    # Instance method album_name\n",
    "    def album_name(self):\n",
    "        return f\"{self.title} is the name of this album and we highly recommend it\"\n",
    "    \n",
    "    # Instance method album_genre\n",
    "    def album_genre(self, user):\n",
    "        return f\"Hello {user}! Nice to meet you. {self.title}\"\n",
    "    \n",
    "    # Instance method all_info\n",
    "    def all_info(self,my_flag):\n",
    "        if my_flag == 'yes':\n",
    "            return f\"This is the album {self.title}. It was released in {self.year}. It's genre is {self.genre}. Its author is {self.author}.\"\n",
    "        elif my_flag == 'maybe':\n",
    "            return f\"Please make your mind because I have no time to waste.\"\n",
    "        elif my_flag == 'no':\n",
    "            return f\"Sorry to see you go.\"\n",
    "        else:\n",
    "            return f\"Well, goodbye!\"\n",
    "\n",
    "    "
   ]
  },
  {
   "cell_type": "code",
   "execution_count": 75,
   "metadata": {},
   "outputs": [],
   "source": [
    "album_a = Album(\"sunrise\", 200, \"romantic\", \"u2\")"
   ]
  },
  {
   "cell_type": "code",
   "execution_count": 76,
   "metadata": {},
   "outputs": [
    {
     "data": {
      "text/plain": [
       "'sunrise is the name of this album and we highly recommend it'"
      ]
     },
     "execution_count": 76,
     "metadata": {},
     "output_type": "execute_result"
    }
   ],
   "source": [
    "album_a.album_name()"
   ]
  },
  {
   "cell_type": "code",
   "execution_count": 77,
   "metadata": {},
   "outputs": [
    {
     "data": {
      "text/plain": [
       "'Hello claudia! Nice to meet you. sunrise'"
      ]
     },
     "execution_count": 77,
     "metadata": {},
     "output_type": "execute_result"
    }
   ],
   "source": [
    "album_a.album_genre(\"claudia\")"
   ]
  },
  {
   "cell_type": "code",
   "execution_count": 78,
   "metadata": {},
   "outputs": [
    {
     "data": {
      "text/plain": [
       "\"This is the album sunrise. It was released in 200. It's genre is romantic. Its author is u2.\""
      ]
     },
     "execution_count": 78,
     "metadata": {},
     "output_type": "execute_result"
    }
   ],
   "source": [
    "album_a.all_info('yes')"
   ]
  },
  {
   "cell_type": "code",
   "execution_count": 79,
   "metadata": {},
   "outputs": [
    {
     "data": {
      "text/plain": [
       "'Please make your mind because I have no time to waste.'"
      ]
     },
     "execution_count": 79,
     "metadata": {},
     "output_type": "execute_result"
    }
   ],
   "source": [
    "album_a.all_info('maybe')"
   ]
  },
  {
   "cell_type": "code",
   "execution_count": 80,
   "metadata": {},
   "outputs": [
    {
     "data": {
      "text/plain": [
       "'Sorry to see you go.'"
      ]
     },
     "execution_count": 80,
     "metadata": {},
     "output_type": "execute_result"
    }
   ],
   "source": [
    "album_a.all_info('no')"
   ]
  },
  {
   "cell_type": "code",
   "execution_count": null,
   "metadata": {},
   "outputs": [],
   "source": []
  }
 ],
 "metadata": {
  "kernelspec": {
   "display_name": "Python 3",
   "language": "python",
   "name": "python3"
  },
  "language_info": {
   "codemirror_mode": {
    "name": "ipython",
    "version": 3
   },
   "file_extension": ".py",
   "mimetype": "text/x-python",
   "name": "python",
   "nbconvert_exporter": "python",
   "pygments_lexer": "ipython3",
   "version": "3.8.5"
  }
 },
 "nbformat": 4,
 "nbformat_minor": 4
}
