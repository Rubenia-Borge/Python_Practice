{
 "cells": [
  {
   "cell_type": "code",
   "execution_count": null,
   "metadata": {},
   "outputs": [],
   "source": [
    "# Two Sum"
   ]
  },
  {
   "cell_type": "code",
   "execution_count": 3,
   "metadata": {},
   "outputs": [
    {
     "name": "stdout",
     "output_type": "stream",
     "text": [
      "[0, 1]\n"
     ]
    }
   ],
   "source": [
    "class Solution:\n",
    "    def brute_force_two_sum(self,nums,target):\n",
    "        for i in range(len(nums)):\n",
    "            for j in range(i + 1, len(nums)):\n",
    "                sum = nums[i] + nums[j]\n",
    "                if sum == target:\n",
    "                    return [i,j]\n",
    "new_solution = Solution()\n",
    "                \n",
    "print(new_solution.brute_force_two_sum([1,2,3],3))"
   ]
  },
  {
   "cell_type": "code",
   "execution_count": 6,
   "metadata": {},
   "outputs": [
    {
     "name": "stdout",
     "output_type": "stream",
     "text": [
      "[0, 1]\n"
     ]
    }
   ],
   "source": [
    "class Solution(object):\n",
    "    def two_sum(self, nums, target):        \n",
    "        complementMap = dict()\n",
    "        for i in range(len(nums)):\n",
    "            num = nums[i]\n",
    "            complement = target - num\n",
    "            if num in complementMap:\n",
    "                return [complementMap[num],i]\n",
    "            else:\n",
    "                complementMap[complement] = i\n",
    "                \n",
    "new_solution = Solution()\n",
    "                \n",
    "print(new_solution.two_sum([1,2,3],3))\n",
    "        "
   ]
  },
  {
   "cell_type": "code",
   "execution_count": null,
   "metadata": {},
   "outputs": [],
   "source": [
    "# Remove Duplicates from Sorted Array"
   ]
  },
  {
   "cell_type": "code",
   "execution_count": null,
   "metadata": {},
   "outputs": [],
   "source": [
    "class Solution(object):\n",
    "    def removeDuplicates(self, nums):\n",
    "        \"\"\"\n",
    "        :type nums: List[int]\n",
    "        :rtype: int\n",
    "        \"\"\"\n",
    "        if len(nums) == 0:\n",
    "            return 0\n",
    "        length = 1\n",
    "        previous_value = nums[0]\n",
    "        index = 1\n",
    "        for i in range(1,len(nums)):\n",
    "            if nums[i] != previous_value:\n",
    "                length += 1\n",
    "                previous_value = nums[i]\n",
    "                nums[index] = nums[i]\n",
    "                index+=1\n",
    "        return length\n",
    "\n",
    "data = [100, 200, 200, 200, 400, 500, 500, 600, 600, 600, 700, 800, 900]\n",
    "list_object = Solution()\n",
    "print(list_object.removeDuplicates(data))"
   ]
  },
  {
   "cell_type": "code",
   "execution_count": null,
   "metadata": {},
   "outputs": [],
   "source": [
    "# Best Time to Buy and Sell Stock II"
   ]
  },
  {
   "cell_type": "code",
   "execution_count": 9,
   "metadata": {},
   "outputs": [
    {
     "name": "stdout",
     "output_type": "stream",
     "text": [
      "300 100 200\n",
      "400 300 100\n",
      "700 100 600\n",
      "The answer is:  900\n"
     ]
    }
   ],
   "source": [
    "class Solution(object):\n",
    "    def maxProfit(self, prices):\n",
    "        \"\"\"\n",
    "        :type prices: List[int]\n",
    "        :rtype: int\n",
    "        \"\"\"\n",
    "        maximum_profit = 0\n",
    "        for i in range(1,len(prices)):\n",
    "            if prices[i] - prices[i-1] > 0:\n",
    "                maximum_profit += (prices[i] - prices[i-1])\n",
    "                #print(\"maximum profit at: \", i, \" profit: \", maximum_profit, prices[i], prices[i-1],(prices[i] - prices[i-1]) )\n",
    "                #print(prices[i], prices[i-1],(prices[i] - prices[i-1]))\n",
    "        return maximum_profit\n",
    "\n",
    "profit_object = Solution()\n",
    "print(\"The answer is: \",profit_object.maxProfit([100, 100, 300, 400, 100, 100, 100, 700, 600]))"
   ]
  },
  {
   "cell_type": "code",
   "execution_count": null,
   "metadata": {},
   "outputs": [],
   "source": [
    "# Rotate Array"
   ]
  },
  {
   "cell_type": "code",
   "execution_count": 2,
   "metadata": {},
   "outputs": [
    {
     "name": "stdout",
     "output_type": "stream",
     "text": [
      "[7, 8, 9, 1, 2, 3, 4, 5, 6]\n"
     ]
    }
   ],
   "source": [
    "class Solution(object):\n",
    "    def rotate(self, nums, k):\n",
    "        \"\"\"\n",
    "        :type nums: List[int]\n",
    "        :type k: int\n",
    "        :rtype: None Do not return anything, modify nums in-place instead.\n",
    "        \"\"\"\n",
    "        count_elements = 0\n",
    "        start_list = 0\n",
    "        while count_elements < len(nums):\n",
    "            current_element = start_list\n",
    "            previous_element = nums[current_element]\n",
    "            while True:\n",
    "                index = (current_element + k) % len(nums)\n",
    "                nums[index], previous_element = previous_element, nums[index]\n",
    "                current_element = index\n",
    "                count_elements += 1\n",
    "                if start_list == current_element:\n",
    "                    break\n",
    "            start_list += 1\n",
    "        return nums\n",
    "            \n",
    "rotate_object = Solution()\n",
    "print(rotate_object.rotate([1,2,3,4,5,6,7,8,9],3))"
   ]
  },
  {
   "cell_type": "code",
   "execution_count": null,
   "metadata": {},
   "outputs": [],
   "source": [
    "# Contains duplicate"
   ]
  },
  {
   "cell_type": "code",
   "execution_count": 6,
   "metadata": {},
   "outputs": [
    {
     "name": "stdout",
     "output_type": "stream",
     "text": [
      "True\n",
      "True\n",
      "False\n"
     ]
    }
   ],
   "source": [
    "class Solution(object):\n",
    "    def containsDuplicate(self, nums):\n",
    "        \"\"\"\n",
    "        :type nums: List[int]\n",
    "        :rtype: bool\n",
    "        \"\"\"\n",
    "        return not len(nums) == len(set(nums))\n",
    "    \n",
    "    \n",
    "duplicate_object = Solution()\n",
    "print(duplicate_object.containsDuplicate([55,55,55,55,55]))\n",
    "print(duplicate_object.containsDuplicate([1,2,2,1]))\n",
    "print(duplicate_object.containsDuplicate([1,2]))"
   ]
  },
  {
   "cell_type": "code",
   "execution_count": null,
   "metadata": {},
   "outputs": [],
   "source": [
    "# Single Number"
   ]
  },
  {
   "cell_type": "code",
   "execution_count": 3,
   "metadata": {},
   "outputs": [
    {
     "name": "stdout",
     "output_type": "stream",
     "text": [
      "6\n"
     ]
    }
   ],
   "source": [
    "class Solution(object):\n",
    "    def singleNumber(self, nums):\n",
    "        \"\"\"\n",
    "        :type nums: List[int]\n",
    "        :rtype: int\n",
    "        \"\"\"\n",
    "        unique_element = nums[0]\n",
    "        for i in range(1,len(nums)):\n",
    "            unique_element ^=nums[i]\n",
    "        return unique_element\n",
    "\n",
    "single_number_object = Solution()\n",
    "print(single_number_object.singleNumber([1,2,3,4,5,6,1,2,3,4,5]))"
   ]
  },
  {
   "cell_type": "code",
   "execution_count": null,
   "metadata": {},
   "outputs": [],
   "source": [
    "# Single Number"
   ]
  },
  {
   "cell_type": "code",
   "execution_count": 5,
   "metadata": {},
   "outputs": [
    {
     "name": "stdout",
     "output_type": "stream",
     "text": [
      "[50, 60, 70]\n"
     ]
    }
   ],
   "source": [
    "class Solution(object):\n",
    "    def intersect(self, nums1, nums2):\n",
    "        \"\"\"\n",
    "        :type nums1: List[int]\n",
    "        :type nums2: List[int]\n",
    "        :rtype: List[int]\n",
    "        \"\"\"\n",
    "        m = {}\n",
    "        if len(nums1)<len(nums2):\n",
    "             nums1,nums2 = nums2,nums1\n",
    "        for i in nums1:\n",
    "            if i not in m:\n",
    "                m[i] = 1\n",
    "            else:\n",
    "                m[i]+=1\n",
    "        result = []\n",
    "        for i in nums2:\n",
    "            if i in m and m[i]:\n",
    "                m[i]-=1\n",
    "                result.append(i)\n",
    "        return result\n",
    "\n",
    "object_intersect = Solution()\n",
    "array1 = [20,30,40,50,60,70]\n",
    "array2 = [50,60,70,80,90,100]\n",
    "print(object_intersect.intersect(array1,array2 ))"
   ]
  },
  {
   "cell_type": "code",
   "execution_count": null,
   "metadata": {},
   "outputs": [],
   "source": [
    "# Reverse String"
   ]
  },
  {
   "cell_type": "code",
   "execution_count": 8,
   "metadata": {},
   "outputs": [
    {
     "name": "stdout",
     "output_type": "stream",
     "text": [
      "['o', 'l', 'l', 'e', 'h']\n"
     ]
    }
   ],
   "source": [
    "class Solution(object):\n",
    "    def reverseString(self, s):\n",
    "        \"\"\"\n",
    "        :type s: List[str]\n",
    "        :rtype: None Do not return anything, modify s in-place instead.\n",
    "        \"\"\"\n",
    "        aux = \" \"\n",
    "        for i in range(len(s) // 2):\n",
    "            aux = s[i]\n",
    "            s[i] = s[len(s) - (i + 1)]\n",
    "            s[len(s) - (i + 1)] = aux\n",
    "        return s\n",
    "            \n",
    "object_reverse = Solution()\n",
    "\n",
    "s = ['h','e','l','l','o']\n",
    "\n",
    "print(object_reverse.reverseString(s))"
   ]
  },
  {
   "cell_type": "code",
   "execution_count": null,
   "metadata": {},
   "outputs": [],
   "source": [
    "# Reverse Integer"
   ]
  },
  {
   "cell_type": "code",
   "execution_count": 1,
   "metadata": {},
   "outputs": [
    {
     "name": "stdout",
     "output_type": "stream",
     "text": [
      "789\n"
     ]
    }
   ],
   "source": [
    "class Solution(object):\n",
    "    def reverse(self, x):\n",
    "        \"\"\"\n",
    "        :type x: int\n",
    "        :rtype: int\n",
    "        \"\"\"\n",
    "        x = str(x)\n",
    "        if x[0] == '-':\n",
    "            num_string = int('-' + x[-1:0:-1])\n",
    "            if num_string >= -2147483648 and num_string <= 2147483647:\n",
    "                return num_string\n",
    "            else:\n",
    "                return 0\n",
    "        else:\n",
    "            num_string = int(x[::-1])\n",
    "            if num_string >= -2147483648 and num_string <= 2147483647:\n",
    "                return num_string\n",
    "            else:\n",
    "                return 0\n",
    "object_reverse = Solution()\n",
    "print(object_reverse.reverse(987))"
   ]
  },
  {
   "cell_type": "code",
   "execution_count": 18,
   "metadata": {},
   "outputs": [
    {
     "name": "stdout",
     "output_type": "stream",
     "text": [
      "-463847412\n"
     ]
    }
   ],
   "source": [
    "class Solution(object):\n",
    "    def reverse(self, x):\n",
    "        \"\"\"\n",
    "        :type x: int\n",
    "        :rtype: int\n",
    "        \"\"\"\n",
    "                \n",
    "        x_string = str(x)\n",
    "        if x_string[0] == '-':\n",
    "            x_string1 = x_string[1:len(x_string)]            \n",
    "            reversed_s1 = x_string1[::-1]            \n",
    "            s1_int = int(reversed_s1)\n",
    "            s1_int = s1_int * -1\n",
    "            if s1_int >= -2147483648 and s1_int <= 2147483647:\n",
    "                return(s1_int)\n",
    "            else:\n",
    "                return 0\n",
    "        else:\n",
    "            reversed_s1 = x_string[::-1]            \n",
    "            s1_int = int(reversed_s1)\n",
    "            if s1_int >= -2147483648 and s1_int <= 2147483647:\n",
    "                return(s1_int)\n",
    "            else:\n",
    "                return 0\n",
    "        \n",
    "\n",
    "object_reverse = Solution()\n",
    "print(object_reverse.reverse(-214748364))"
   ]
  },
  {
   "cell_type": "code",
   "execution_count": 2,
   "metadata": {},
   "outputs": [
    {
     "name": "stdout",
     "output_type": "stream",
     "text": [
      "4\n"
     ]
    }
   ],
   "source": [
    "def binary_search(input_array, lower_value, higher_value, num):\n",
    "    if higher_value >= lower_value:\n",
    "        middle_value = (higher_value + lower_value) // 2\n",
    "        if input_array[middle_value] == num:\n",
    "            return middle_value\n",
    "        elif input_array [middle_value] > num:\n",
    "            return binary_search(input_array, lower_value, middle_value - 1, num)\n",
    "        else:\n",
    "            return binary_search(input_array,middle_value + 1, higher_value, num)\n",
    "    else:\n",
    "        return None\n",
    "\n",
    "input_array = [100, 200, 300, 400, 500, 600, 700]\n",
    "print(binary_search(input_array,0,len(input_array)-1,500))"
   ]
  },
  {
   "cell_type": "code",
   "execution_count": null,
   "metadata": {},
   "outputs": [],
   "source": [
    "# First Unique Character in a String"
   ]
  },
  {
   "cell_type": "code",
   "execution_count": 1,
   "metadata": {},
   "outputs": [
    {
     "name": "stdout",
     "output_type": "stream",
     "text": [
      "0\n",
      "2\n",
      "-1\n"
     ]
    }
   ],
   "source": [
    "class Solution(object):\n",
    "    def firstUniqChar(self, s):\n",
    "        \"\"\"\n",
    "        :type s: str\n",
    "        :rtype: int\n",
    "        \"\"\"\n",
    "        frequency_chars = {}\n",
    "        for character in s:\n",
    "            if character not in frequency_chars:\n",
    "                frequency_chars[character] = 1\n",
    "            else:\n",
    "                frequency_chars[character] +=1\n",
    "        for character in range(len(s)):\n",
    "            if frequency_chars[s[character]] == 1:\n",
    "                return character\n",
    "        return -1\n",
    "\n",
    "\n",
    "object_unique_char = Solution()\n",
    "print(object_unique_char.firstUniqChar(\"gaseosa\"))\n",
    "print(object_unique_char.firstUniqChar(\"bilirrubina\"))\n",
    "print(object_unique_char.firstUniqChar(\"mama\"))"
   ]
  },
  {
   "cell_type": "code",
   "execution_count": null,
   "metadata": {},
   "outputs": [],
   "source": []
  }
 ],
 "metadata": {
  "kernelspec": {
   "display_name": "Python 3",
   "language": "python",
   "name": "python3"
  },
  "language_info": {
   "codemirror_mode": {
    "name": "ipython",
    "version": 3
   },
   "file_extension": ".py",
   "mimetype": "text/x-python",
   "name": "python",
   "nbconvert_exporter": "python",
   "pygments_lexer": "ipython3",
   "version": "3.8.5"
  }
 },
 "nbformat": 4,
 "nbformat_minor": 4
}
