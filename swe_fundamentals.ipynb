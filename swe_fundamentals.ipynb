{
 "cells": [
  {
   "cell_type": "code",
   "execution_count": null,
   "metadata": {},
   "outputs": [],
   "source": [
    "# Two Sum"
   ]
  },
  {
   "cell_type": "code",
   "execution_count": 3,
   "metadata": {},
   "outputs": [
    {
     "name": "stdout",
     "output_type": "stream",
     "text": [
      "[0, 1]\n"
     ]
    }
   ],
   "source": [
    "class Solution:\n",
    "    def brute_force_two_sum(self,nums,target):\n",
    "        for i in range(len(nums)):\n",
    "            for j in range(i + 1, len(nums)):\n",
    "                sum = nums[i] + nums[j]\n",
    "                if sum == target:\n",
    "                    return [i,j]\n",
    "new_solution = Solution()\n",
    "                \n",
    "print(new_solution.brute_force_two_sum([1,2,3],3))"
   ]
  },
  {
   "cell_type": "code",
   "execution_count": 6,
   "metadata": {},
   "outputs": [
    {
     "name": "stdout",
     "output_type": "stream",
     "text": [
      "[0, 1]\n"
     ]
    }
   ],
   "source": [
    "class Solution(object):\n",
    "    def two_sum(self, nums, target):        \n",
    "        complementMap = dict()\n",
    "        for i in range(len(nums)):\n",
    "            num = nums[i]\n",
    "            complement = target - num\n",
    "            if num in complementMap:\n",
    "                return [complementMap[num],i]\n",
    "            else:\n",
    "                complementMap[complement] = i\n",
    "                \n",
    "new_solution = Solution()\n",
    "                \n",
    "print(new_solution.two_sum([1,2,3],3))\n",
    "        "
   ]
  },
  {
   "cell_type": "code",
   "execution_count": null,
   "metadata": {},
   "outputs": [],
   "source": [
    "# Remove Duplicates from Sorted Array"
   ]
  },
  {
   "cell_type": "code",
   "execution_count": null,
   "metadata": {},
   "outputs": [],
   "source": [
    "class Solution(object):\n",
    "    def removeDuplicates(self, nums):\n",
    "        \"\"\"\n",
    "        :type nums: List[int]\n",
    "        :rtype: int\n",
    "        \"\"\"\n",
    "        if len(nums) == 0:\n",
    "            return 0\n",
    "        length = 1\n",
    "        previous_value = nums[0]\n",
    "        index = 1\n",
    "        for i in range(1,len(nums)):\n",
    "            if nums[i] != previous_value:\n",
    "                length += 1\n",
    "                previous_value = nums[i]\n",
    "                nums[index] = nums[i]\n",
    "                index+=1\n",
    "        return length\n",
    "\n",
    "data = [100, 200, 200, 200, 400, 500, 500, 600, 600, 600, 700, 800, 900]\n",
    "list_object = Solution()\n",
    "print(list_object.removeDuplicates(data))"
   ]
  }
 ],
 "metadata": {
  "kernelspec": {
   "display_name": "Python 3",
   "language": "python",
   "name": "python3"
  },
  "language_info": {
   "codemirror_mode": {
    "name": "ipython",
    "version": 3
   },
   "file_extension": ".py",
   "mimetype": "text/x-python",
   "name": "python",
   "nbconvert_exporter": "python",
   "pygments_lexer": "ipython3",
   "version": "3.8.5"
  }
 },
 "nbformat": 4,
 "nbformat_minor": 4
}
