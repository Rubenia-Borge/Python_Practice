{
 "cells": [
  {
   "cell_type": "code",
   "execution_count": null,
   "metadata": {},
   "outputs": [],
   "source": [
    "# Python Workshop 6"
   ]
  },
  {
   "cell_type": "code",
   "execution_count": null,
   "metadata": {},
   "outputs": [],
   "source": [
    "# Create a new dictionary by extracting keys from another dictionary"
   ]
  },
  {
   "cell_type": "code",
   "execution_count": 7,
   "metadata": {},
   "outputs": [
    {
     "name": "stdout",
     "output_type": "stream",
     "text": [
      "\n",
      "This is the new dictionary created after retrieving some keys from an existing dictionary: \n",
      " {'orchata': 5, 'tamarindo': 5, 'jamaica': 5, 'limonada': 5, 'agua': 3, 'gaseosas': 5}\n"
     ]
    }
   ],
   "source": [
    "menu = {\n",
    "    'tacos': 10,\n",
    "    'tamales': 15,\n",
    "    'gorditas': 5,\n",
    "    'quesadillas':  20,\n",
    "    'guaraches': 15,\n",
    "    'sopes': 15,\n",
    "    'nopales': 15,\n",
    "    'chile relleno': 15,\n",
    "    'orchata': 5,\n",
    "    'tamarindo': 5,\n",
    "    'jamaica': 5,\n",
    "    'limonada': 5,\n",
    "    'agua': 3,\n",
    "    'gaseosas': 5,\n",
    "    'mangonada': 3\n",
    "    \n",
    "}\n",
    "\n",
    "beverages = ['orchata', 'tamarindo', 'jamaica', 'limonada', 'agua', 'gaseosas']\n",
    "\n",
    "beverages_dictionary = {i: menu[i] for i in beverages}\n",
    "\n",
    "print(\"\\nThis is the new dictionary created after retrieving some keys from an existing dictionary: \\n\", beverages_dictionary)"
   ]
  },
  {
   "cell_type": "code",
   "execution_count": null,
   "metadata": {},
   "outputs": [],
   "source": [
    "# Delete a set of keys from a dictionary"
   ]
  },
  {
   "cell_type": "code",
   "execution_count": 8,
   "metadata": {},
   "outputs": [
    {
     "name": "stdout",
     "output_type": "stream",
     "text": [
      "\n",
      "This is the menu dictionary after removing limonada, agua, and gaseosa \n",
      " {'tamales': 15, 'tacos': 10, 'gorditas': 5, 'quesadillas': 20, 'sopes': 15, 'guaraches': 15, 'nopales': 15, 'jamaica': 5, 'chile relleno': 15, 'tamarindo': 5, 'mangonada': 3, 'orchata': 5}\n"
     ]
    }
   ],
   "source": [
    "menu = {\n",
    "    'tacos': 10,\n",
    "    'tamales': 15,\n",
    "    'gorditas': 5,\n",
    "    'quesadillas':  20,\n",
    "    'guaraches': 15,\n",
    "    'sopes': 15,\n",
    "    'nopales': 15,\n",
    "    'chile relleno': 15,\n",
    "    'orchata': 5,\n",
    "    'tamarindo': 5,\n",
    "    'jamaica': 5,\n",
    "    'limonada': 5,\n",
    "    'agua': 3,\n",
    "    'gaseosas': 5,\n",
    "    'mangonada': 3\n",
    "    \n",
    "}\n",
    "\n",
    "beverages_removed = ['limonada','agua', 'gaseosas']\n",
    "\n",
    "menu = {i: menu[i] for i in menu.keys() - beverages_removed}\n",
    "\n",
    "print(\"\\nThis is the menu dictionary after removing limonada, agua, and gaseosa \\n\", menu)"
   ]
  },
  {
   "cell_type": "code",
   "execution_count": null,
   "metadata": {},
   "outputs": [],
   "source": [
    "# Check if a value is in a dictionary"
   ]
  },
  {
   "cell_type": "code",
   "execution_count": 10,
   "metadata": {},
   "outputs": [
    {
     "name": "stdout",
     "output_type": "stream",
     "text": [
      "\n",
      "Checking if 1 is in the values of the menu dictionary: \n",
      " True\n"
     ]
    }
   ],
   "source": [
    "menu = {\n",
    "    'tacos': 10,\n",
    "    'tamales': 15,\n",
    "    'gorditas': 5,\n",
    "    'quesadillas':  20,\n",
    "    'guaraches': 15,\n",
    "    'sopes': 15,\n",
    "    'nopales': 15,\n",
    "    'chile relleno': 15,\n",
    "    'orchata': 5,\n",
    "    'tamarindo': 5,\n",
    "    'jamaica': 5,\n",
    "    'limonada': 5,\n",
    "    'agua': 3,\n",
    "    'gaseosas': 5,\n",
    "    'mangonada': 1\n",
    "    \n",
    "}\n",
    "\n",
    "print(\"\\nChecking if 1 is in the values of the menu dictionary: \\n\", 1 in menu.values())"
   ]
  },
  {
   "cell_type": "code",
   "execution_count": null,
   "metadata": {},
   "outputs": [],
   "source": [
    "# Rename keys in a dictionary"
   ]
  },
  {
   "cell_type": "code",
   "execution_count": 14,
   "metadata": {},
   "outputs": [
    {
     "name": "stdout",
     "output_type": "stream",
     "text": [
      "\n",
      "This is the original menu dictionary before updates: \n",
      " {'tacos': 10, 'tamales': 15, 'gorditas': 5, 'quesadillas': 20, 'guaraches': 15, 'sopes': 15, 'nopales': 15, 'chile relleno': 15, 'orchata': 5, 'tamarindo': 5, 'jamaica': 5, 'limonada': 5, 'agua': 3, 'gaseosa': 5, 'mangonada': 1} \n",
      "\n",
      "\n",
      "This is the menu dictionary after updating gaseosas for soda: \n",
      " {'tacos': 10, 'tamales': 15, 'gorditas': 5, 'quesadillas': 20, 'guaraches': 15, 'sopes': 15, 'nopales': 15, 'chile relleno': 15, 'orchata': 5, 'tamarindo': 5, 'jamaica': 5, 'limonada': 5, 'agua': 3, 'mangonada': 1, 'soda': 5}\n",
      "\n",
      "This is the menu dictionary after updating agua for aguas frescas: \n",
      " {'tacos': 10, 'tamales': 15, 'gorditas': 5, 'quesadillas': 20, 'guaraches': 15, 'sopes': 15, 'nopales': 15, 'chile relleno': 15, 'orchata': 5, 'tamarindo': 5, 'jamaica': 5, 'limonada': 5, 'mangonada': 1, 'soda': 5, 'aguas frescas': 3}\n",
      "\n",
      "This is the menu dictionary after updating mangonada for mango juice: \n",
      " {'tacos': 10, 'tamales': 15, 'gorditas': 5, 'quesadillas': 20, 'guaraches': 15, 'sopes': 15, 'nopales': 15, 'chile relleno': 15, 'orchata': 5, 'tamarindo': 5, 'jamaica': 5, 'limonada': 5, 'soda': 5, 'aguas frescas': 3, 'mango juice': 1}\n"
     ]
    }
   ],
   "source": [
    "menu = {\n",
    "    'tacos': 10,\n",
    "    'tamales': 15,\n",
    "    'gorditas': 5,\n",
    "    'quesadillas':  20,\n",
    "    'guaraches': 15,\n",
    "    'sopes': 15,\n",
    "    'nopales': 15,\n",
    "    'chile relleno': 15,\n",
    "    'orchata': 5,\n",
    "    'tamarindo': 5,\n",
    "    'jamaica': 5,\n",
    "    'limonada': 5,\n",
    "    'agua': 3,\n",
    "    'gaseosa': 5,\n",
    "    'mangonada': 1\n",
    "    \n",
    "}\n",
    "\n",
    "print(\"\\nThis is the original menu dictionary before updates: \\n\", menu, \"\\n\")\n",
    "\n",
    "menu['soda'] = menu.pop('gaseosa')\n",
    "\n",
    "print(\"\\nThis is the menu dictionary after updating gaseosas for soda: \\n\", menu)\n",
    "\n",
    "menu['aguas frescas'] = menu.pop('agua')\n",
    "\n",
    "print(\"\\nThis is the menu dictionary after updating agua for aguas frescas: \\n\", menu)\n",
    "\n",
    "menu['mango juice'] = menu.pop('mangonada')\n",
    "\n",
    "print(\"\\nThis is the menu dictionary after updating mangonada for mango juice: \\n\", menu)\n"
   ]
  },
  {
   "cell_type": "code",
   "execution_count": null,
   "metadata": {},
   "outputs": [],
   "source": [
    "# Get the key of a minimum value from a dictionary"
   ]
  },
  {
   "cell_type": "code",
   "execution_count": 21,
   "metadata": {},
   "outputs": [
    {
     "name": "stdout",
     "output_type": "stream",
     "text": [
      "\n",
      "This is the cheapest item in our menu:  mangonada\n",
      "\n",
      "This is the most expensive item in our menu:  quesadillas\n"
     ]
    }
   ],
   "source": [
    "menu = {\n",
    "    'tacos': 10,\n",
    "    'tamales': 15,\n",
    "    'gorditas': 5,\n",
    "    'quesadillas':  25,\n",
    "    'guaraches': 15,\n",
    "    'sopes': 15,\n",
    "    'nopales': 15,\n",
    "    'chile relleno': 15,\n",
    "    'orchata': 5,\n",
    "    'tamarindo': 5,\n",
    "    'jamaica': 5,\n",
    "    'limonada': 5,\n",
    "    'agua': 3,\n",
    "    'gaseosa': 5,\n",
    "    'mangonada': 1\n",
    "    \n",
    "}\n",
    "\n",
    "print(\"\\nThis is the cheapest item in our menu: \",min(menu, key = menu.get))\n",
    "print(\"\\nThis is the most expensive item in our menu: \", max(menu, key = menu.get))"
   ]
  },
  {
   "cell_type": "code",
   "execution_count": null,
   "metadata": {},
   "outputs": [],
   "source": [
    " # Change values in a dictionary"
   ]
  },
  {
   "cell_type": "code",
   "execution_count": 30,
   "metadata": {},
   "outputs": [
    {
     "name": "stdout",
     "output_type": "stream",
     "text": [
      "\n",
      "This is the original menu dictionary before changes in values: \n",
      " {'item1': {'name:': 'tacos', 'price': 10, 'serving': 3}, 'item2': {'name:': 'tamales', 'price': 15, 'serving': 2}, 'item3': {'name:': 'gorditas', 'price': 5, 'serving': 2}, 'item4': {'name:': 'guaraches', 'price': 15, 'serving': 2}, 'item5': {'name:': 'sopes', 'price': 15, 'serving': 3}, 'item6': {'name:': 'nopales', 'price': 15, 'serving': 3}, 'item7': {'name:': 'quesadillas', 'price': 35, 'serving': 1}, 'item8': {'name:': 'chile relleno', 'price': 25, 'serving': 2}, 'item9': {'name:': 'orchata', 'price': 5, 'serving': 1}, 'item10': {'name:': 'tamarindo', 'price': 5, 'serving': 1}, 'item11': {'name:': 'jamaica', 'price': 5, 'serving': 1}, 'item12': {'name:': 'limonada', 'price': 5, 'serving': 1}, 'item13': {'name:': 'agua', 'price': 3, 'serving': 1}, 'item14': {'name:': 'gaseosa', 'price': 3, 'serving': 1}, 'item15': {'name:': 'mangonada', 'price': 1, 'serving': 1}}\n",
      "\n",
      "This is the menu_updated dictionary after updating the price for item9: \n",
      " {'item1': {'name:': 'tacos', 'price': 10, 'serving': 3}, 'item2': {'name:': 'tamales', 'price': 15, 'serving': 2}, 'item3': {'name:': 'gorditas', 'price': 5, 'serving': 2}, 'item4': {'name:': 'guaraches', 'price': 15, 'serving': 2}, 'item5': {'name:': 'sopes', 'price': 15, 'serving': 3}, 'item6': {'name:': 'nopales', 'price': 15, 'serving': 3}, 'item7': {'name:': 'quesadillas', 'price': 35, 'serving': 1}, 'item8': {'name:': 'chile relleno', 'price': 25, 'serving': 2}, 'item9': {'name:': 'orchata', 'price': 10, 'serving': 1}, 'item10': {'name:': 'tamarindo', 'price': 5, 'serving': 1}, 'item11': {'name:': 'jamaica', 'price': 5, 'serving': 1}, 'item12': {'name:': 'limonada', 'price': 5, 'serving': 1}, 'item13': {'name:': 'agua', 'price': 3, 'serving': 1}, 'item14': {'name:': 'gaseosa', 'price': 3, 'serving': 1}, 'item15': {'name:': 'mangonada', 'price': 1, 'serving': 1}}\n",
      "\n",
      "This is the menu_updated dictionary after updating the price for item10, item11 and item12: \n",
      " {'item1': {'name:': 'tacos', 'price': 10, 'serving': 3}, 'item2': {'name:': 'tamales', 'price': 15, 'serving': 2}, 'item3': {'name:': 'gorditas', 'price': 5, 'serving': 2}, 'item4': {'name:': 'guaraches', 'price': 15, 'serving': 2}, 'item5': {'name:': 'sopes', 'price': 15, 'serving': 3}, 'item6': {'name:': 'nopales', 'price': 15, 'serving': 3}, 'item7': {'name:': 'quesadillas', 'price': 35, 'serving': 1}, 'item8': {'name:': 'chile relleno', 'price': 25, 'serving': 2}, 'item9': {'name:': 'orchata', 'price': 10, 'serving': 1}, 'item10': {'name:': 'tamarindo', 'price': 10, 'serving': 1}, 'item11': {'name:': 'jamaica', 'price': 10, 'serving': 1}, 'item12': {'name:': 'limonada', 'price': 10, 'serving': 1}, 'item13': {'name:': 'agua', 'price': 3, 'serving': 1}, 'item14': {'name:': 'gaseosa', 'price': 3, 'serving': 1}, 'item15': {'name:': 'mangonada', 'price': 1, 'serving': 1}}\n",
      "\n",
      "This is the menu_updated dictionary after updating the price and serving  for item13, and item14: \n",
      " {'item1': {'name:': 'tacos', 'price': 10, 'serving': 3}, 'item2': {'name:': 'tamales', 'price': 15, 'serving': 2}, 'item3': {'name:': 'gorditas', 'price': 5, 'serving': 2}, 'item4': {'name:': 'guaraches', 'price': 15, 'serving': 2}, 'item5': {'name:': 'sopes', 'price': 15, 'serving': 3}, 'item6': {'name:': 'nopales', 'price': 15, 'serving': 3}, 'item7': {'name:': 'quesadillas', 'price': 35, 'serving': 1}, 'item8': {'name:': 'chile relleno', 'price': 25, 'serving': 2}, 'item9': {'name:': 'orchata', 'price': 10, 'serving': 1}, 'item10': {'name:': 'tamarindo', 'price': 10, 'serving': 1}, 'item11': {'name:': 'jamaica', 'price': 10, 'serving': 1}, 'item12': {'name:': 'limonada', 'price': 10, 'serving': 1}, 'item13': {'name:': 'agua', 'price': 6, 'serving': 2}, 'item14': {'name:': 'gaseosa', 'price': 6, 'serving': 2}, 'item15': {'name:': 'mangonada', 'price': 1, 'serving': 1}}\n"
     ]
    }
   ],
   "source": [
    "menu_updated = {\n",
    "    'item1': {'name:': 'tacos', 'price': 10, 'serving': 3},\n",
    "    'item2': {'name:': 'tamales','price': 15, 'serving': 2},\n",
    "    'item3': {'name:': 'gorditas','price': 5, 'serving': 2},\n",
    "    'item4': {'name:': 'guaraches','price': 15, 'serving': 2},\n",
    "    'item5': {'name:': 'sopes','price': 15, 'serving': 3},\n",
    "    'item6': {'name:': 'nopales','price': 15, 'serving': 3},\n",
    "    'item7': {'name:': 'quesadillas','price': 35, 'serving': 1},\n",
    "    'item8': {'name:': 'chile relleno','price': 25, 'serving': 2},\n",
    "    'item9': {'name:': 'orchata','price': 5, 'serving': 1},\n",
    "    'item10': {'name:': 'tamarindo','price': 5, 'serving': 1},\n",
    "    'item11': {'name:': 'jamaica','price': 5, 'serving': 1},\n",
    "    'item12': {'name:': 'limonada','price': 5, 'serving': 1},\n",
    "    'item13': {'name:': 'agua','price': 3, 'serving': 1},\n",
    "    'item14': {'name:': 'gaseosa','price': 3, 'serving': 1},\n",
    "    'item15': {'name:': 'mangonada','price': 1, 'serving': 1}    \n",
    "   \n",
    "}\n",
    "\n",
    "print (\"\\nThis is the original menu dictionary before changes in values: \\n\", menu_updated)\n",
    "\n",
    "# Changes in prices for menu items\n",
    "\n",
    "menu_updated['item9']['price'] = 10\n",
    "\n",
    "print(\"\\nThis is the menu_updated dictionary after updating the price for item9: \\n\", menu_updated)\n",
    "\n",
    "menu_updated['item10']['price'] = 10\n",
    "menu_updated['item11']['price'] = 10\n",
    "menu_updated['item12']['price'] = 10\n",
    "\n",
    "print(\"\\nThis is the menu_updated dictionary after updating the price for item10, item11 and item12: \\n\", menu_updated)\n",
    "\n",
    "menu_updated['item13']['price'] = 6\n",
    "menu_updated['item14']['price'] = 6\n",
    "menu_updated['item13']['serving'] = 2\n",
    "menu_updated['item14']['serving'] = 2\n",
    "\n",
    "print(\"\\nThis is the menu_updated dictionary after updating the price and serving  for item13, and item14: \\n\", menu_updated)"
   ]
  },
  {
   "cell_type": "code",
   "execution_count": null,
   "metadata": {},
   "outputs": [],
   "source": []
  }
 ],
 "metadata": {
  "kernelspec": {
   "display_name": "Python 3",
   "language": "python",
   "name": "python3"
  },
  "language_info": {
   "codemirror_mode": {
    "name": "ipython",
    "version": 3
   },
   "file_extension": ".py",
   "mimetype": "text/x-python",
   "name": "python",
   "nbconvert_exporter": "python",
   "pygments_lexer": "ipython3",
   "version": "3.8.5"
  }
 },
 "nbformat": 4,
 "nbformat_minor": 4
}
